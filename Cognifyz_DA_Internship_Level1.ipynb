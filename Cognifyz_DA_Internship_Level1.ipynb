{
  "nbformat": 4,
  "nbformat_minor": 0,
  "metadata": {
    "colab": {
      "provenance": []
    },
    "kernelspec": {
      "name": "python3",
      "display_name": "Python 3"
    },
    "language_info": {
      "name": "python"
    }
  },
  "cells": [
    {
      "cell_type": "markdown",
      "source": [
        "#**Crafting Strategic Insights In Restaurant Services - Level 1**"
      ],
      "metadata": {
        "id": "CVZeIDpbbmje"
      }
    },
    {
      "cell_type": "markdown",
      "source": [
        "##**Objective**\n",
        "\n",
        "The main objective of the project is to derive valuable insights from the Restaurants datasets, gain a comprehension of customer behavior, examine the sales and pricing, monitor the services and evalute the performance of restaurants.This data holds significance for decision- making for new chain establishment, refining the market strategies and enhancing overall business operations pertaining to the sales and services."
      ],
      "metadata": {
        "id": "xvOs7-KGboCj"
      }
    },
    {
      "cell_type": "markdown",
      "source": [
        "##**Prerequisites & Data Preparation**\n",
        "\n",
        "The notebook contains code focused on restaurants data,  initial data exploration, feature engineering-devising metrics, feature scaling, and evaluating the\n",
        "\n",
        "Libraries and Data Setup:\n",
        "\n",
        "Import necessary libraries (pandas, numpy, sklearn, etc.).\n",
        "uploading the dataset to pandas dataframe and querying the data.\n",
        "\n",
        "Data Preparation:\n",
        "\n",
        "Several preprocessing steps (cleaning, feature engineering, etc.) appear to have been performed.\n",
        "Features are scaled using StandardScaler.\n",
        "\n",
        "Visualisation:\n",
        "\n"
      ],
      "metadata": {
        "id": "LmrcJUa_Pijb"
      }
    },
    {
      "cell_type": "markdown",
      "source": [
        "## **Importing Necessary Libraries and importing dataset**"
      ],
      "metadata": {
        "id": "LhYOEaljkK2o"
      }
    },
    {
      "cell_type": "code",
      "source": [
        "# Install pandasql\n",
        "!pip install pandasql\n",
        "import pandasql as psql\n",
        "\n",
        "# Import Libraries\n",
        "import pandas as pd\n",
        "import numpy as np\n",
        "import seaborn as sns\n",
        "import matplotlib.pyplot as plt\n"
      ],
      "metadata": {
        "colab": {
          "base_uri": "https://localhost:8080/"
        },
        "id": "jKYUDdpEks9K",
        "outputId": "4d9f0984-121b-4a86-d42c-9087a7f11d2f"
      },
      "execution_count": 1,
      "outputs": [
        {
          "output_type": "stream",
          "name": "stdout",
          "text": [
            "Collecting pandasql\n",
            "  Downloading pandasql-0.7.3.tar.gz (26 kB)\n",
            "  Preparing metadata (setup.py) ... \u001b[?25l\u001b[?25hdone\n",
            "Requirement already satisfied: numpy in /usr/local/lib/python3.10/dist-packages (from pandasql) (1.26.4)\n",
            "Requirement already satisfied: pandas in /usr/local/lib/python3.10/dist-packages (from pandasql) (2.2.2)\n",
            "Requirement already satisfied: sqlalchemy in /usr/local/lib/python3.10/dist-packages (from pandasql) (2.0.36)\n",
            "Requirement already satisfied: python-dateutil>=2.8.2 in /usr/local/lib/python3.10/dist-packages (from pandas->pandasql) (2.8.2)\n",
            "Requirement already satisfied: pytz>=2020.1 in /usr/local/lib/python3.10/dist-packages (from pandas->pandasql) (2024.2)\n",
            "Requirement already satisfied: tzdata>=2022.7 in /usr/local/lib/python3.10/dist-packages (from pandas->pandasql) (2024.2)\n",
            "Requirement already satisfied: typing-extensions>=4.6.0 in /usr/local/lib/python3.10/dist-packages (from sqlalchemy->pandasql) (4.12.2)\n",
            "Requirement already satisfied: greenlet!=0.4.17 in /usr/local/lib/python3.10/dist-packages (from sqlalchemy->pandasql) (3.1.1)\n",
            "Requirement already satisfied: six>=1.5 in /usr/local/lib/python3.10/dist-packages (from python-dateutil>=2.8.2->pandas->pandasql) (1.16.0)\n",
            "Building wheels for collected packages: pandasql\n",
            "  Building wheel for pandasql (setup.py) ... \u001b[?25l\u001b[?25hdone\n",
            "  Created wheel for pandasql: filename=pandasql-0.7.3-py3-none-any.whl size=26772 sha256=c4de13741d7e8db4dfe1d1ece9e570601ab6b19ee436a53695c4ae36e754f392\n",
            "  Stored in directory: /root/.cache/pip/wheels/e9/bc/3a/8434bdcccf5779e72894a9b24fecbdcaf97940607eaf4bcdf9\n",
            "Successfully built pandasql\n",
            "Installing collected packages: pandasql\n",
            "Successfully installed pandasql-0.7.3\n"
          ]
        }
      ]
    },
    {
      "cell_type": "markdown",
      "source": [
        "## **Read the CSV file**"
      ],
      "metadata": {
        "id": "ip9OJsrNlRK-"
      }
    },
    {
      "cell_type": "code",
      "source": [
        "# Upload the CSV file manually in Colab first\n",
        "# Then read the CSV file into a pandas DataFrame\n",
        "url = \"https://raw.githubusercontent.com/LeelaYathapu/Cognifyz-Restaurant-Service-Analysis/refs/heads/main/Dataset.csv\"\n",
        "df = pd.read_csv(url)\n",
        "\n",
        "# Display the first few rows of the DataFrame\n",
        "df.head()"
      ],
      "metadata": {
        "colab": {
          "base_uri": "https://localhost:8080/",
          "height": 811
        },
        "id": "IimDVdfelQVb",
        "outputId": "cf29671f-655a-40af-a3ad-c0c067de41f5"
      },
      "execution_count": 2,
      "outputs": [
        {
          "output_type": "execute_result",
          "data": {
            "text/plain": [
              "   Restaurant ID         Restaurant Name  Country Code              City  \\\n",
              "0        6317637        Le Petit Souffle           162       Makati City   \n",
              "1        6304287        Izakaya Kikufuji           162       Makati City   \n",
              "2        6300002  Heat - Edsa Shangri-La           162  Mandaluyong City   \n",
              "3        6318506                    Ooma           162  Mandaluyong City   \n",
              "4        6314302             Sambo Kojin           162  Mandaluyong City   \n",
              "\n",
              "                                             Address  \\\n",
              "0  Third Floor, Century City Mall, Kalayaan Avenu...   \n",
              "1  Little Tokyo, 2277 Chino Roces Avenue, Legaspi...   \n",
              "2  Edsa Shangri-La, 1 Garden Way, Ortigas, Mandal...   \n",
              "3  Third Floor, Mega Fashion Hall, SM Megamall, O...   \n",
              "4  Third Floor, Mega Atrium, SM Megamall, Ortigas...   \n",
              "\n",
              "                                     Locality  \\\n",
              "0   Century City Mall, Poblacion, Makati City   \n",
              "1  Little Tokyo, Legaspi Village, Makati City   \n",
              "2  Edsa Shangri-La, Ortigas, Mandaluyong City   \n",
              "3      SM Megamall, Ortigas, Mandaluyong City   \n",
              "4      SM Megamall, Ortigas, Mandaluyong City   \n",
              "\n",
              "                                    Locality Verbose   Longitude   Latitude  \\\n",
              "0  Century City Mall, Poblacion, Makati City, Mak...  121.027535  14.565443   \n",
              "1  Little Tokyo, Legaspi Village, Makati City, Ma...  121.014101  14.553708   \n",
              "2  Edsa Shangri-La, Ortigas, Mandaluyong City, Ma...  121.056831  14.581404   \n",
              "3  SM Megamall, Ortigas, Mandaluyong City, Mandal...  121.056475  14.585318   \n",
              "4  SM Megamall, Ortigas, Mandaluyong City, Mandal...  121.057508  14.584450   \n",
              "\n",
              "                           Cuisines  ...          Currency Has Table booking  \\\n",
              "0        French, Japanese, Desserts  ...  Botswana Pula(P)               Yes   \n",
              "1                          Japanese  ...  Botswana Pula(P)               Yes   \n",
              "2  Seafood, Asian, Filipino, Indian  ...  Botswana Pula(P)               Yes   \n",
              "3                   Japanese, Sushi  ...  Botswana Pula(P)                No   \n",
              "4                  Japanese, Korean  ...  Botswana Pula(P)               Yes   \n",
              "\n",
              "  Has Online delivery Is delivering now Switch to order menu Price range  \\\n",
              "0                  No                No                   No           3   \n",
              "1                  No                No                   No           3   \n",
              "2                  No                No                   No           4   \n",
              "3                  No                No                   No           4   \n",
              "4                  No                No                   No           4   \n",
              "\n",
              "   Aggregate rating  Rating color Rating text Votes  \n",
              "0               4.8    Dark Green   Excellent   314  \n",
              "1               4.5    Dark Green   Excellent   591  \n",
              "2               4.4         Green   Very Good   270  \n",
              "3               4.9    Dark Green   Excellent   365  \n",
              "4               4.8    Dark Green   Excellent   229  \n",
              "\n",
              "[5 rows x 21 columns]"
            ],
            "text/html": [
              "\n",
              "  <div id=\"df-ccdd446d-d0aa-4e06-bf9c-0a5b6777ce12\" class=\"colab-df-container\">\n",
              "    <div>\n",
              "<style scoped>\n",
              "    .dataframe tbody tr th:only-of-type {\n",
              "        vertical-align: middle;\n",
              "    }\n",
              "\n",
              "    .dataframe tbody tr th {\n",
              "        vertical-align: top;\n",
              "    }\n",
              "\n",
              "    .dataframe thead th {\n",
              "        text-align: right;\n",
              "    }\n",
              "</style>\n",
              "<table border=\"1\" class=\"dataframe\">\n",
              "  <thead>\n",
              "    <tr style=\"text-align: right;\">\n",
              "      <th></th>\n",
              "      <th>Restaurant ID</th>\n",
              "      <th>Restaurant Name</th>\n",
              "      <th>Country Code</th>\n",
              "      <th>City</th>\n",
              "      <th>Address</th>\n",
              "      <th>Locality</th>\n",
              "      <th>Locality Verbose</th>\n",
              "      <th>Longitude</th>\n",
              "      <th>Latitude</th>\n",
              "      <th>Cuisines</th>\n",
              "      <th>...</th>\n",
              "      <th>Currency</th>\n",
              "      <th>Has Table booking</th>\n",
              "      <th>Has Online delivery</th>\n",
              "      <th>Is delivering now</th>\n",
              "      <th>Switch to order menu</th>\n",
              "      <th>Price range</th>\n",
              "      <th>Aggregate rating</th>\n",
              "      <th>Rating color</th>\n",
              "      <th>Rating text</th>\n",
              "      <th>Votes</th>\n",
              "    </tr>\n",
              "  </thead>\n",
              "  <tbody>\n",
              "    <tr>\n",
              "      <th>0</th>\n",
              "      <td>6317637</td>\n",
              "      <td>Le Petit Souffle</td>\n",
              "      <td>162</td>\n",
              "      <td>Makati City</td>\n",
              "      <td>Third Floor, Century City Mall, Kalayaan Avenu...</td>\n",
              "      <td>Century City Mall, Poblacion, Makati City</td>\n",
              "      <td>Century City Mall, Poblacion, Makati City, Mak...</td>\n",
              "      <td>121.027535</td>\n",
              "      <td>14.565443</td>\n",
              "      <td>French, Japanese, Desserts</td>\n",
              "      <td>...</td>\n",
              "      <td>Botswana Pula(P)</td>\n",
              "      <td>Yes</td>\n",
              "      <td>No</td>\n",
              "      <td>No</td>\n",
              "      <td>No</td>\n",
              "      <td>3</td>\n",
              "      <td>4.8</td>\n",
              "      <td>Dark Green</td>\n",
              "      <td>Excellent</td>\n",
              "      <td>314</td>\n",
              "    </tr>\n",
              "    <tr>\n",
              "      <th>1</th>\n",
              "      <td>6304287</td>\n",
              "      <td>Izakaya Kikufuji</td>\n",
              "      <td>162</td>\n",
              "      <td>Makati City</td>\n",
              "      <td>Little Tokyo, 2277 Chino Roces Avenue, Legaspi...</td>\n",
              "      <td>Little Tokyo, Legaspi Village, Makati City</td>\n",
              "      <td>Little Tokyo, Legaspi Village, Makati City, Ma...</td>\n",
              "      <td>121.014101</td>\n",
              "      <td>14.553708</td>\n",
              "      <td>Japanese</td>\n",
              "      <td>...</td>\n",
              "      <td>Botswana Pula(P)</td>\n",
              "      <td>Yes</td>\n",
              "      <td>No</td>\n",
              "      <td>No</td>\n",
              "      <td>No</td>\n",
              "      <td>3</td>\n",
              "      <td>4.5</td>\n",
              "      <td>Dark Green</td>\n",
              "      <td>Excellent</td>\n",
              "      <td>591</td>\n",
              "    </tr>\n",
              "    <tr>\n",
              "      <th>2</th>\n",
              "      <td>6300002</td>\n",
              "      <td>Heat - Edsa Shangri-La</td>\n",
              "      <td>162</td>\n",
              "      <td>Mandaluyong City</td>\n",
              "      <td>Edsa Shangri-La, 1 Garden Way, Ortigas, Mandal...</td>\n",
              "      <td>Edsa Shangri-La, Ortigas, Mandaluyong City</td>\n",
              "      <td>Edsa Shangri-La, Ortigas, Mandaluyong City, Ma...</td>\n",
              "      <td>121.056831</td>\n",
              "      <td>14.581404</td>\n",
              "      <td>Seafood, Asian, Filipino, Indian</td>\n",
              "      <td>...</td>\n",
              "      <td>Botswana Pula(P)</td>\n",
              "      <td>Yes</td>\n",
              "      <td>No</td>\n",
              "      <td>No</td>\n",
              "      <td>No</td>\n",
              "      <td>4</td>\n",
              "      <td>4.4</td>\n",
              "      <td>Green</td>\n",
              "      <td>Very Good</td>\n",
              "      <td>270</td>\n",
              "    </tr>\n",
              "    <tr>\n",
              "      <th>3</th>\n",
              "      <td>6318506</td>\n",
              "      <td>Ooma</td>\n",
              "      <td>162</td>\n",
              "      <td>Mandaluyong City</td>\n",
              "      <td>Third Floor, Mega Fashion Hall, SM Megamall, O...</td>\n",
              "      <td>SM Megamall, Ortigas, Mandaluyong City</td>\n",
              "      <td>SM Megamall, Ortigas, Mandaluyong City, Mandal...</td>\n",
              "      <td>121.056475</td>\n",
              "      <td>14.585318</td>\n",
              "      <td>Japanese, Sushi</td>\n",
              "      <td>...</td>\n",
              "      <td>Botswana Pula(P)</td>\n",
              "      <td>No</td>\n",
              "      <td>No</td>\n",
              "      <td>No</td>\n",
              "      <td>No</td>\n",
              "      <td>4</td>\n",
              "      <td>4.9</td>\n",
              "      <td>Dark Green</td>\n",
              "      <td>Excellent</td>\n",
              "      <td>365</td>\n",
              "    </tr>\n",
              "    <tr>\n",
              "      <th>4</th>\n",
              "      <td>6314302</td>\n",
              "      <td>Sambo Kojin</td>\n",
              "      <td>162</td>\n",
              "      <td>Mandaluyong City</td>\n",
              "      <td>Third Floor, Mega Atrium, SM Megamall, Ortigas...</td>\n",
              "      <td>SM Megamall, Ortigas, Mandaluyong City</td>\n",
              "      <td>SM Megamall, Ortigas, Mandaluyong City, Mandal...</td>\n",
              "      <td>121.057508</td>\n",
              "      <td>14.584450</td>\n",
              "      <td>Japanese, Korean</td>\n",
              "      <td>...</td>\n",
              "      <td>Botswana Pula(P)</td>\n",
              "      <td>Yes</td>\n",
              "      <td>No</td>\n",
              "      <td>No</td>\n",
              "      <td>No</td>\n",
              "      <td>4</td>\n",
              "      <td>4.8</td>\n",
              "      <td>Dark Green</td>\n",
              "      <td>Excellent</td>\n",
              "      <td>229</td>\n",
              "    </tr>\n",
              "  </tbody>\n",
              "</table>\n",
              "<p>5 rows × 21 columns</p>\n",
              "</div>\n",
              "    <div class=\"colab-df-buttons\">\n",
              "\n",
              "  <div class=\"colab-df-container\">\n",
              "    <button class=\"colab-df-convert\" onclick=\"convertToInteractive('df-ccdd446d-d0aa-4e06-bf9c-0a5b6777ce12')\"\n",
              "            title=\"Convert this dataframe to an interactive table.\"\n",
              "            style=\"display:none;\">\n",
              "\n",
              "  <svg xmlns=\"http://www.w3.org/2000/svg\" height=\"24px\" viewBox=\"0 -960 960 960\">\n",
              "    <path d=\"M120-120v-720h720v720H120Zm60-500h600v-160H180v160Zm220 220h160v-160H400v160Zm0 220h160v-160H400v160ZM180-400h160v-160H180v160Zm440 0h160v-160H620v160ZM180-180h160v-160H180v160Zm440 0h160v-160H620v160Z\"/>\n",
              "  </svg>\n",
              "    </button>\n",
              "\n",
              "  <style>\n",
              "    .colab-df-container {\n",
              "      display:flex;\n",
              "      gap: 12px;\n",
              "    }\n",
              "\n",
              "    .colab-df-convert {\n",
              "      background-color: #E8F0FE;\n",
              "      border: none;\n",
              "      border-radius: 50%;\n",
              "      cursor: pointer;\n",
              "      display: none;\n",
              "      fill: #1967D2;\n",
              "      height: 32px;\n",
              "      padding: 0 0 0 0;\n",
              "      width: 32px;\n",
              "    }\n",
              "\n",
              "    .colab-df-convert:hover {\n",
              "      background-color: #E2EBFA;\n",
              "      box-shadow: 0px 1px 2px rgba(60, 64, 67, 0.3), 0px 1px 3px 1px rgba(60, 64, 67, 0.15);\n",
              "      fill: #174EA6;\n",
              "    }\n",
              "\n",
              "    .colab-df-buttons div {\n",
              "      margin-bottom: 4px;\n",
              "    }\n",
              "\n",
              "    [theme=dark] .colab-df-convert {\n",
              "      background-color: #3B4455;\n",
              "      fill: #D2E3FC;\n",
              "    }\n",
              "\n",
              "    [theme=dark] .colab-df-convert:hover {\n",
              "      background-color: #434B5C;\n",
              "      box-shadow: 0px 1px 3px 1px rgba(0, 0, 0, 0.15);\n",
              "      filter: drop-shadow(0px 1px 2px rgba(0, 0, 0, 0.3));\n",
              "      fill: #FFFFFF;\n",
              "    }\n",
              "  </style>\n",
              "\n",
              "    <script>\n",
              "      const buttonEl =\n",
              "        document.querySelector('#df-ccdd446d-d0aa-4e06-bf9c-0a5b6777ce12 button.colab-df-convert');\n",
              "      buttonEl.style.display =\n",
              "        google.colab.kernel.accessAllowed ? 'block' : 'none';\n",
              "\n",
              "      async function convertToInteractive(key) {\n",
              "        const element = document.querySelector('#df-ccdd446d-d0aa-4e06-bf9c-0a5b6777ce12');\n",
              "        const dataTable =\n",
              "          await google.colab.kernel.invokeFunction('convertToInteractive',\n",
              "                                                    [key], {});\n",
              "        if (!dataTable) return;\n",
              "\n",
              "        const docLinkHtml = 'Like what you see? Visit the ' +\n",
              "          '<a target=\"_blank\" href=https://colab.research.google.com/notebooks/data_table.ipynb>data table notebook</a>'\n",
              "          + ' to learn more about interactive tables.';\n",
              "        element.innerHTML = '';\n",
              "        dataTable['output_type'] = 'display_data';\n",
              "        await google.colab.output.renderOutput(dataTable, element);\n",
              "        const docLink = document.createElement('div');\n",
              "        docLink.innerHTML = docLinkHtml;\n",
              "        element.appendChild(docLink);\n",
              "      }\n",
              "    </script>\n",
              "  </div>\n",
              "\n",
              "\n",
              "<div id=\"df-6a1cd2da-f126-4f85-a1db-edb1cd4ed68d\">\n",
              "  <button class=\"colab-df-quickchart\" onclick=\"quickchart('df-6a1cd2da-f126-4f85-a1db-edb1cd4ed68d')\"\n",
              "            title=\"Suggest charts\"\n",
              "            style=\"display:none;\">\n",
              "\n",
              "<svg xmlns=\"http://www.w3.org/2000/svg\" height=\"24px\"viewBox=\"0 0 24 24\"\n",
              "     width=\"24px\">\n",
              "    <g>\n",
              "        <path d=\"M19 3H5c-1.1 0-2 .9-2 2v14c0 1.1.9 2 2 2h14c1.1 0 2-.9 2-2V5c0-1.1-.9-2-2-2zM9 17H7v-7h2v7zm4 0h-2V7h2v10zm4 0h-2v-4h2v4z\"/>\n",
              "    </g>\n",
              "</svg>\n",
              "  </button>\n",
              "\n",
              "<style>\n",
              "  .colab-df-quickchart {\n",
              "      --bg-color: #E8F0FE;\n",
              "      --fill-color: #1967D2;\n",
              "      --hover-bg-color: #E2EBFA;\n",
              "      --hover-fill-color: #174EA6;\n",
              "      --disabled-fill-color: #AAA;\n",
              "      --disabled-bg-color: #DDD;\n",
              "  }\n",
              "\n",
              "  [theme=dark] .colab-df-quickchart {\n",
              "      --bg-color: #3B4455;\n",
              "      --fill-color: #D2E3FC;\n",
              "      --hover-bg-color: #434B5C;\n",
              "      --hover-fill-color: #FFFFFF;\n",
              "      --disabled-bg-color: #3B4455;\n",
              "      --disabled-fill-color: #666;\n",
              "  }\n",
              "\n",
              "  .colab-df-quickchart {\n",
              "    background-color: var(--bg-color);\n",
              "    border: none;\n",
              "    border-radius: 50%;\n",
              "    cursor: pointer;\n",
              "    display: none;\n",
              "    fill: var(--fill-color);\n",
              "    height: 32px;\n",
              "    padding: 0;\n",
              "    width: 32px;\n",
              "  }\n",
              "\n",
              "  .colab-df-quickchart:hover {\n",
              "    background-color: var(--hover-bg-color);\n",
              "    box-shadow: 0 1px 2px rgba(60, 64, 67, 0.3), 0 1px 3px 1px rgba(60, 64, 67, 0.15);\n",
              "    fill: var(--button-hover-fill-color);\n",
              "  }\n",
              "\n",
              "  .colab-df-quickchart-complete:disabled,\n",
              "  .colab-df-quickchart-complete:disabled:hover {\n",
              "    background-color: var(--disabled-bg-color);\n",
              "    fill: var(--disabled-fill-color);\n",
              "    box-shadow: none;\n",
              "  }\n",
              "\n",
              "  .colab-df-spinner {\n",
              "    border: 2px solid var(--fill-color);\n",
              "    border-color: transparent;\n",
              "    border-bottom-color: var(--fill-color);\n",
              "    animation:\n",
              "      spin 1s steps(1) infinite;\n",
              "  }\n",
              "\n",
              "  @keyframes spin {\n",
              "    0% {\n",
              "      border-color: transparent;\n",
              "      border-bottom-color: var(--fill-color);\n",
              "      border-left-color: var(--fill-color);\n",
              "    }\n",
              "    20% {\n",
              "      border-color: transparent;\n",
              "      border-left-color: var(--fill-color);\n",
              "      border-top-color: var(--fill-color);\n",
              "    }\n",
              "    30% {\n",
              "      border-color: transparent;\n",
              "      border-left-color: var(--fill-color);\n",
              "      border-top-color: var(--fill-color);\n",
              "      border-right-color: var(--fill-color);\n",
              "    }\n",
              "    40% {\n",
              "      border-color: transparent;\n",
              "      border-right-color: var(--fill-color);\n",
              "      border-top-color: var(--fill-color);\n",
              "    }\n",
              "    60% {\n",
              "      border-color: transparent;\n",
              "      border-right-color: var(--fill-color);\n",
              "    }\n",
              "    80% {\n",
              "      border-color: transparent;\n",
              "      border-right-color: var(--fill-color);\n",
              "      border-bottom-color: var(--fill-color);\n",
              "    }\n",
              "    90% {\n",
              "      border-color: transparent;\n",
              "      border-bottom-color: var(--fill-color);\n",
              "    }\n",
              "  }\n",
              "</style>\n",
              "\n",
              "  <script>\n",
              "    async function quickchart(key) {\n",
              "      const quickchartButtonEl =\n",
              "        document.querySelector('#' + key + ' button');\n",
              "      quickchartButtonEl.disabled = true;  // To prevent multiple clicks.\n",
              "      quickchartButtonEl.classList.add('colab-df-spinner');\n",
              "      try {\n",
              "        const charts = await google.colab.kernel.invokeFunction(\n",
              "            'suggestCharts', [key], {});\n",
              "      } catch (error) {\n",
              "        console.error('Error during call to suggestCharts:', error);\n",
              "      }\n",
              "      quickchartButtonEl.classList.remove('colab-df-spinner');\n",
              "      quickchartButtonEl.classList.add('colab-df-quickchart-complete');\n",
              "    }\n",
              "    (() => {\n",
              "      let quickchartButtonEl =\n",
              "        document.querySelector('#df-6a1cd2da-f126-4f85-a1db-edb1cd4ed68d button');\n",
              "      quickchartButtonEl.style.display =\n",
              "        google.colab.kernel.accessAllowed ? 'block' : 'none';\n",
              "    })();\n",
              "  </script>\n",
              "</div>\n",
              "\n",
              "    </div>\n",
              "  </div>\n"
            ],
            "application/vnd.google.colaboratory.intrinsic+json": {
              "type": "dataframe",
              "variable_name": "df"
            }
          },
          "metadata": {},
          "execution_count": 2
        }
      ]
    },
    {
      "cell_type": "markdown",
      "source": [
        "## **Data Cleaning**"
      ],
      "metadata": {
        "id": "Kl_gKS3Edii7"
      }
    },
    {
      "cell_type": "code",
      "source": [
        "#Checking size of dataframe\n",
        "df.shape"
      ],
      "metadata": {
        "id": "T7NmOQAbdlBH",
        "colab": {
          "base_uri": "https://localhost:8080/"
        },
        "outputId": "b60f5e9e-02e2-4c11-9484-fd7b6c247221"
      },
      "execution_count": 3,
      "outputs": [
        {
          "output_type": "execute_result",
          "data": {
            "text/plain": [
              "(9551, 21)"
            ]
          },
          "metadata": {},
          "execution_count": 3
        }
      ]
    },
    {
      "cell_type": "markdown",
      "source": [
        "Observation:\n",
        "There are 9551 rows with 21 columns (features)"
      ],
      "metadata": {
        "id": "kTgf-qxaduSP"
      }
    },
    {
      "cell_type": "code",
      "source": [
        "#Checking the datatype and null values in dataset\n",
        "df.info()"
      ],
      "metadata": {
        "id": "JCHjMVgldxIi",
        "colab": {
          "base_uri": "https://localhost:8080/"
        },
        "outputId": "dca64a77-885b-4497-ea94-bb9b172176be"
      },
      "execution_count": 4,
      "outputs": [
        {
          "output_type": "stream",
          "name": "stdout",
          "text": [
            "<class 'pandas.core.frame.DataFrame'>\n",
            "RangeIndex: 9551 entries, 0 to 9550\n",
            "Data columns (total 21 columns):\n",
            " #   Column                Non-Null Count  Dtype  \n",
            "---  ------                --------------  -----  \n",
            " 0   Restaurant ID         9551 non-null   int64  \n",
            " 1   Restaurant Name       9551 non-null   object \n",
            " 2   Country Code          9551 non-null   int64  \n",
            " 3   City                  9551 non-null   object \n",
            " 4   Address               9551 non-null   object \n",
            " 5   Locality              9551 non-null   object \n",
            " 6   Locality Verbose      9551 non-null   object \n",
            " 7   Longitude             9551 non-null   float64\n",
            " 8   Latitude              9551 non-null   float64\n",
            " 9   Cuisines              9542 non-null   object \n",
            " 10  Average Cost for two  9551 non-null   int64  \n",
            " 11  Currency              9551 non-null   object \n",
            " 12  Has Table booking     9551 non-null   object \n",
            " 13  Has Online delivery   9551 non-null   object \n",
            " 14  Is delivering now     9551 non-null   object \n",
            " 15  Switch to order menu  9551 non-null   object \n",
            " 16  Price range           9551 non-null   int64  \n",
            " 17  Aggregate rating      9551 non-null   float64\n",
            " 18  Rating color          9551 non-null   object \n",
            " 19  Rating text           9551 non-null   object \n",
            " 20  Votes                 9551 non-null   int64  \n",
            "dtypes: float64(3), int64(5), object(13)\n",
            "memory usage: 1.5+ MB\n"
          ]
        }
      ]
    },
    {
      "cell_type": "markdown",
      "source": [
        "Observation:\n",
        "There are three types of data types : float, int , object\n",
        "Total 9551 rows are present in all columns except Cuisines having some missing values"
      ],
      "metadata": {
        "id": "vCF8Y0D8d1Ld"
      }
    },
    {
      "cell_type": "code",
      "source": [
        "# Checking the number of missing values in each columns\n",
        "df.isnull().sum()"
      ],
      "metadata": {
        "id": "njsZ8NQrd6Zu",
        "colab": {
          "base_uri": "https://localhost:8080/",
          "height": 743
        },
        "outputId": "3a8a6465-d6f3-4c1c-f99f-d4a8532fde13"
      },
      "execution_count": 5,
      "outputs": [
        {
          "output_type": "execute_result",
          "data": {
            "text/plain": [
              "Restaurant ID           0\n",
              "Restaurant Name         0\n",
              "Country Code            0\n",
              "City                    0\n",
              "Address                 0\n",
              "Locality                0\n",
              "Locality Verbose        0\n",
              "Longitude               0\n",
              "Latitude                0\n",
              "Cuisines                9\n",
              "Average Cost for two    0\n",
              "Currency                0\n",
              "Has Table booking       0\n",
              "Has Online delivery     0\n",
              "Is delivering now       0\n",
              "Switch to order menu    0\n",
              "Price range             0\n",
              "Aggregate rating        0\n",
              "Rating color            0\n",
              "Rating text             0\n",
              "Votes                   0\n",
              "dtype: int64"
            ],
            "text/html": [
              "<div>\n",
              "<style scoped>\n",
              "    .dataframe tbody tr th:only-of-type {\n",
              "        vertical-align: middle;\n",
              "    }\n",
              "\n",
              "    .dataframe tbody tr th {\n",
              "        vertical-align: top;\n",
              "    }\n",
              "\n",
              "    .dataframe thead th {\n",
              "        text-align: right;\n",
              "    }\n",
              "</style>\n",
              "<table border=\"1\" class=\"dataframe\">\n",
              "  <thead>\n",
              "    <tr style=\"text-align: right;\">\n",
              "      <th></th>\n",
              "      <th>0</th>\n",
              "    </tr>\n",
              "  </thead>\n",
              "  <tbody>\n",
              "    <tr>\n",
              "      <th>Restaurant ID</th>\n",
              "      <td>0</td>\n",
              "    </tr>\n",
              "    <tr>\n",
              "      <th>Restaurant Name</th>\n",
              "      <td>0</td>\n",
              "    </tr>\n",
              "    <tr>\n",
              "      <th>Country Code</th>\n",
              "      <td>0</td>\n",
              "    </tr>\n",
              "    <tr>\n",
              "      <th>City</th>\n",
              "      <td>0</td>\n",
              "    </tr>\n",
              "    <tr>\n",
              "      <th>Address</th>\n",
              "      <td>0</td>\n",
              "    </tr>\n",
              "    <tr>\n",
              "      <th>Locality</th>\n",
              "      <td>0</td>\n",
              "    </tr>\n",
              "    <tr>\n",
              "      <th>Locality Verbose</th>\n",
              "      <td>0</td>\n",
              "    </tr>\n",
              "    <tr>\n",
              "      <th>Longitude</th>\n",
              "      <td>0</td>\n",
              "    </tr>\n",
              "    <tr>\n",
              "      <th>Latitude</th>\n",
              "      <td>0</td>\n",
              "    </tr>\n",
              "    <tr>\n",
              "      <th>Cuisines</th>\n",
              "      <td>9</td>\n",
              "    </tr>\n",
              "    <tr>\n",
              "      <th>Average Cost for two</th>\n",
              "      <td>0</td>\n",
              "    </tr>\n",
              "    <tr>\n",
              "      <th>Currency</th>\n",
              "      <td>0</td>\n",
              "    </tr>\n",
              "    <tr>\n",
              "      <th>Has Table booking</th>\n",
              "      <td>0</td>\n",
              "    </tr>\n",
              "    <tr>\n",
              "      <th>Has Online delivery</th>\n",
              "      <td>0</td>\n",
              "    </tr>\n",
              "    <tr>\n",
              "      <th>Is delivering now</th>\n",
              "      <td>0</td>\n",
              "    </tr>\n",
              "    <tr>\n",
              "      <th>Switch to order menu</th>\n",
              "      <td>0</td>\n",
              "    </tr>\n",
              "    <tr>\n",
              "      <th>Price range</th>\n",
              "      <td>0</td>\n",
              "    </tr>\n",
              "    <tr>\n",
              "      <th>Aggregate rating</th>\n",
              "      <td>0</td>\n",
              "    </tr>\n",
              "    <tr>\n",
              "      <th>Rating color</th>\n",
              "      <td>0</td>\n",
              "    </tr>\n",
              "    <tr>\n",
              "      <th>Rating text</th>\n",
              "      <td>0</td>\n",
              "    </tr>\n",
              "    <tr>\n",
              "      <th>Votes</th>\n",
              "      <td>0</td>\n",
              "    </tr>\n",
              "  </tbody>\n",
              "</table>\n",
              "</div><br><label><b>dtype:</b> int64</label>"
            ]
          },
          "metadata": {},
          "execution_count": 5
        }
      ]
    },
    {
      "cell_type": "markdown",
      "source": [
        "Observation\n",
        "Cuisines column has 9 missing values rows\n",
        "Since only once instance of resturant is present for each of these missing values and there are no values to impute based on similar rows, we can drop the rows after clarifying with client or statkeholder."
      ],
      "metadata": {
        "id": "FX1RRyQxd9k8"
      }
    },
    {
      "cell_type": "code",
      "source": [
        "# We can drop null values using drop\n",
        "#and save the data in new varaible\n",
        "df1 = df.dropna()\n",
        "df1.shape"
      ],
      "metadata": {
        "id": "OWD6RS4ueE76",
        "colab": {
          "base_uri": "https://localhost:8080/"
        },
        "outputId": "a3ba73b7-ae15-4caa-f082-9f73cd8410bc"
      },
      "execution_count": 6,
      "outputs": [
        {
          "output_type": "execute_result",
          "data": {
            "text/plain": [
              "(9542, 21)"
            ]
          },
          "metadata": {},
          "execution_count": 6
        }
      ]
    },
    {
      "cell_type": "code",
      "source": [
        "# Cross check for null values\n",
        "df1.isnull().sum()"
      ],
      "metadata": {
        "id": "_j8u04LCeIOq",
        "colab": {
          "base_uri": "https://localhost:8080/",
          "height": 743
        },
        "outputId": "c6499e93-473b-4e34-ba6f-d7a4b864bb2f"
      },
      "execution_count": 7,
      "outputs": [
        {
          "output_type": "execute_result",
          "data": {
            "text/plain": [
              "Restaurant ID           0\n",
              "Restaurant Name         0\n",
              "Country Code            0\n",
              "City                    0\n",
              "Address                 0\n",
              "Locality                0\n",
              "Locality Verbose        0\n",
              "Longitude               0\n",
              "Latitude                0\n",
              "Cuisines                0\n",
              "Average Cost for two    0\n",
              "Currency                0\n",
              "Has Table booking       0\n",
              "Has Online delivery     0\n",
              "Is delivering now       0\n",
              "Switch to order menu    0\n",
              "Price range             0\n",
              "Aggregate rating        0\n",
              "Rating color            0\n",
              "Rating text             0\n",
              "Votes                   0\n",
              "dtype: int64"
            ],
            "text/html": [
              "<div>\n",
              "<style scoped>\n",
              "    .dataframe tbody tr th:only-of-type {\n",
              "        vertical-align: middle;\n",
              "    }\n",
              "\n",
              "    .dataframe tbody tr th {\n",
              "        vertical-align: top;\n",
              "    }\n",
              "\n",
              "    .dataframe thead th {\n",
              "        text-align: right;\n",
              "    }\n",
              "</style>\n",
              "<table border=\"1\" class=\"dataframe\">\n",
              "  <thead>\n",
              "    <tr style=\"text-align: right;\">\n",
              "      <th></th>\n",
              "      <th>0</th>\n",
              "    </tr>\n",
              "  </thead>\n",
              "  <tbody>\n",
              "    <tr>\n",
              "      <th>Restaurant ID</th>\n",
              "      <td>0</td>\n",
              "    </tr>\n",
              "    <tr>\n",
              "      <th>Restaurant Name</th>\n",
              "      <td>0</td>\n",
              "    </tr>\n",
              "    <tr>\n",
              "      <th>Country Code</th>\n",
              "      <td>0</td>\n",
              "    </tr>\n",
              "    <tr>\n",
              "      <th>City</th>\n",
              "      <td>0</td>\n",
              "    </tr>\n",
              "    <tr>\n",
              "      <th>Address</th>\n",
              "      <td>0</td>\n",
              "    </tr>\n",
              "    <tr>\n",
              "      <th>Locality</th>\n",
              "      <td>0</td>\n",
              "    </tr>\n",
              "    <tr>\n",
              "      <th>Locality Verbose</th>\n",
              "      <td>0</td>\n",
              "    </tr>\n",
              "    <tr>\n",
              "      <th>Longitude</th>\n",
              "      <td>0</td>\n",
              "    </tr>\n",
              "    <tr>\n",
              "      <th>Latitude</th>\n",
              "      <td>0</td>\n",
              "    </tr>\n",
              "    <tr>\n",
              "      <th>Cuisines</th>\n",
              "      <td>0</td>\n",
              "    </tr>\n",
              "    <tr>\n",
              "      <th>Average Cost for two</th>\n",
              "      <td>0</td>\n",
              "    </tr>\n",
              "    <tr>\n",
              "      <th>Currency</th>\n",
              "      <td>0</td>\n",
              "    </tr>\n",
              "    <tr>\n",
              "      <th>Has Table booking</th>\n",
              "      <td>0</td>\n",
              "    </tr>\n",
              "    <tr>\n",
              "      <th>Has Online delivery</th>\n",
              "      <td>0</td>\n",
              "    </tr>\n",
              "    <tr>\n",
              "      <th>Is delivering now</th>\n",
              "      <td>0</td>\n",
              "    </tr>\n",
              "    <tr>\n",
              "      <th>Switch to order menu</th>\n",
              "      <td>0</td>\n",
              "    </tr>\n",
              "    <tr>\n",
              "      <th>Price range</th>\n",
              "      <td>0</td>\n",
              "    </tr>\n",
              "    <tr>\n",
              "      <th>Aggregate rating</th>\n",
              "      <td>0</td>\n",
              "    </tr>\n",
              "    <tr>\n",
              "      <th>Rating color</th>\n",
              "      <td>0</td>\n",
              "    </tr>\n",
              "    <tr>\n",
              "      <th>Rating text</th>\n",
              "      <td>0</td>\n",
              "    </tr>\n",
              "    <tr>\n",
              "      <th>Votes</th>\n",
              "      <td>0</td>\n",
              "    </tr>\n",
              "  </tbody>\n",
              "</table>\n",
              "</div><br><label><b>dtype:</b> int64</label>"
            ]
          },
          "metadata": {},
          "execution_count": 7
        }
      ]
    },
    {
      "cell_type": "code",
      "source": [
        "#Save the results to a CSV file\n",
        "df1.to_csv('Cleaned_Dataset.csv', index=False)"
      ],
      "metadata": {
        "id": "jvwYHSSoeLlf"
      },
      "execution_count": 18,
      "outputs": []
    },
    {
      "cell_type": "code",
      "source": [
        "df = df1"
      ],
      "metadata": {
        "id": "oc6oGGcDCZJ9"
      },
      "execution_count": 19,
      "outputs": []
    },
    {
      "cell_type": "code",
      "source": [
        "url= \"https://raw.githubusercontent.com/LeelaYathapu/Cognifyz-Restaurant-Service-Analysis/refs/heads/main/Cleaned_Dataset.csv\"\n",
        "df = pd.read_csv(url)"
      ],
      "metadata": {
        "id": "AmNKfwVlCoPk"
      },
      "execution_count": null,
      "outputs": []
    },
    {
      "cell_type": "markdown",
      "source": [
        "# **Task 1: Top Cuisines**\n",
        "Determine the top three most common cuisines in the dataset.\n",
        "\n",
        "Calculate the percentage of restaurants that serve each of the top cuisines.# New section"
      ],
      "metadata": {
        "id": "fu3HRsfzgD2F"
      }
    },
    {
      "cell_type": "code",
      "source": [
        "# Write SQL query and run it on your DataFrame\n",
        "\n",
        "# SQL query to Determine the top three most common cuisines in the dataset.\n",
        "query1 = \"\"\"\n",
        "SELECT Cuisines, COUNT(*) as cuisines_count\n",
        "FROM df\n",
        "GROUP BY Cuisines\n",
        "ORDER BY cuisines_count DESC\n",
        "LIMIT 4;\n",
        "\"\"\"\n",
        "\n",
        "# Execute the SQL query\n",
        "top_cuisines = psql.sqldf(query1, locals())\n",
        "\n",
        "# Show the result\n",
        "print(top_cuisines)"
      ],
      "metadata": {
        "colab": {
          "base_uri": "https://localhost:8080/"
        },
        "id": "Q11u7jPQjlrs",
        "outputId": "168b4329-dbf7-4233-da66-601e2f668411"
      },
      "execution_count": 20,
      "outputs": [
        {
          "output_type": "stream",
          "name": "stdout",
          "text": [
            "                Cuisines  cuisines_count\n",
            "0           North Indian             936\n",
            "1  North Indian, Chinese             511\n",
            "2              Fast Food             354\n",
            "3                Chinese             354\n"
          ]
        }
      ]
    },
    {
      "cell_type": "code",
      "source": [
        "# SQL query to Calculate the percentage of restaurants that serve each of the top cuisines\n",
        "query2 = \"\"\"\n",
        "WITH total_restaurants AS (\n",
        "    SELECT COUNT(*) AS total_res\n",
        "    FROM df\n",
        "),\n",
        "top_three_cuisines AS (\n",
        "    SELECT Cuisines, COUNT(*) AS cuisine_count\n",
        "    FROM df\n",
        "    WHERE Cuisines IN ('North Indian', 'North Indian, Chinese', 'Chinese')\n",
        "    GROUP BY Cuisines\n",
        ")\n",
        "SELECT\n",
        "    top_three_cuisines.Cuisines,\n",
        "    Round((cuisine_count * 100.0 / total_restaurants.total_res),2) AS percentage_of_restaurants\n",
        "FROM\n",
        "    top_three_cuisines,\n",
        "    total_restaurants;\n",
        "\"\"\"\n",
        "\n",
        "# Execute the SQL query\n",
        "percentage_of_restaurants = psql.sqldf(query2, locals())\n",
        "\n",
        "# Show the result\n",
        "print(percentage_of_restaurants)"
      ],
      "metadata": {
        "colab": {
          "base_uri": "https://localhost:8080/"
        },
        "id": "Etnzm4wguFkE",
        "outputId": "f29b4ce7-3c9b-43c0-848c-e99b5a100ad1"
      },
      "execution_count": 21,
      "outputs": [
        {
          "output_type": "stream",
          "name": "stdout",
          "text": [
            "                Cuisines  percentage_of_restaurants\n",
            "0                Chinese                       3.71\n",
            "1           North Indian                       9.81\n",
            "2  North Indian, Chinese                       5.36\n"
          ]
        }
      ]
    },
    {
      "cell_type": "markdown",
      "source": [
        "####**Summary Task 1**\n",
        "\n",
        "1.Top Three Cuisines\n",
        "North Indian 936\n",
        "North Indian, Chinese 511\n",
        "Chinese 354\n",
        "Fast Food\n",
        "\n",
        "2. Percentage of restaurants that serve each of the top cuisines\n",
        "\n",
        "Percentage of restaurants that serve North Indian cuisines : 9.81 %\n",
        "\n",
        "Percentage of restaurants that serve North Indian, Chinese cuisines : 5.36 %\n",
        "\n",
        "Percentage of restaurants that serve Chinese cuisines : 3.71 %"
      ],
      "metadata": {
        "id": "mIRJTFMeCK4S"
      }
    },
    {
      "cell_type": "markdown",
      "source": [
        "# **Task 2: City Analysis**\n",
        "\n",
        "1. Identify the city with the highest number\n",
        "of restaurants in the dataset.\n",
        "\n",
        "2. Calculate the average rating for\n",
        "restaurants in each city.\n",
        "\n",
        "3. Determine the city with the highest\n",
        "average rating."
      ],
      "metadata": {
        "id": "czE5DN7gP9T_"
      }
    },
    {
      "cell_type": "code",
      "source": [
        "# SQL query to Identify the city with the highest number of restaurants in the dataset\n",
        "query1 = \"\"\"\n",
        "SELECT City, COUNT(\"Restaurant ID\") as restaurant_count\n",
        "FROM df\n",
        "GROUP BY City\n",
        "ORDER BY restaurant_count DESC\n",
        "LIMIT 1;\n",
        "\"\"\"\n",
        "\n",
        "# Execute the SQL query\n",
        "top_city = psql.sqldf(query1, locals())\n",
        "\n",
        "# Show the result\n",
        "print(top_city)"
      ],
      "metadata": {
        "colab": {
          "base_uri": "https://localhost:8080/"
        },
        "id": "0FE6c2uRQ48d",
        "outputId": "c17e0412-6516-4abc-d411-9b27523dc76c"
      },
      "execution_count": 22,
      "outputs": [
        {
          "output_type": "stream",
          "name": "stdout",
          "text": [
            "        City  restaurant_count\n",
            "0  New Delhi              5473\n"
          ]
        }
      ]
    },
    {
      "cell_type": "code",
      "source": [
        "# SQL query to Calculate the average rating for restaurants in each city\n",
        "query1 = \"\"\"\n",
        "SELECT City, avg(\"Aggregate rating\") as avg_rating\n",
        "FROM df\n",
        "GROUP BY City\n",
        ";\n",
        "\"\"\"\n",
        "\n",
        "# Execute the SQL query\n",
        "avg_rating = psql.sqldf(query1, locals())\n",
        "\n",
        "# Show the result\n",
        "print(avg_rating)"
      ],
      "metadata": {
        "colab": {
          "base_uri": "https://localhost:8080/"
        },
        "id": "pJAGI6TpSd_D",
        "outputId": "201712fd-1091-4ead-eea3-f52109bc3d41"
      },
      "execution_count": 23,
      "outputs": [
        {
          "output_type": "stream",
          "name": "stdout",
          "text": [
            "                City  avg_rating\n",
            "0          Abu Dhabi    4.300000\n",
            "1               Agra    3.965000\n",
            "2          Ahmedabad    4.161905\n",
            "3             Albany    3.552941\n",
            "4          Allahabad    3.395000\n",
            "..               ...         ...\n",
            "135          Weirton    3.900000\n",
            "136  Wellington City    4.250000\n",
            "137   Winchester Bay    3.200000\n",
            "138          Yorkton    3.300000\n",
            "139        ��stanbul    4.292857\n",
            "\n",
            "[140 rows x 2 columns]\n"
          ]
        }
      ]
    },
    {
      "cell_type": "code",
      "source": [
        "# SQL query to Determine the city with the highest average rating.\n",
        "query1 = \"\"\"\n",
        "SELECT City, avg(\"Aggregate rating\") as avg_rating\n",
        "FROM df\n",
        "GROUP BY City\n",
        "ORDER BY avg_rating DESC\n",
        "Limit 1\n",
        ";\n",
        "\"\"\"\n",
        "\n",
        "# Execute the SQL query\n",
        "highest_avg_rating = psql.sqldf(query1, locals())\n",
        "\n",
        "# Show the result\n",
        "print(highest_avg_rating)"
      ],
      "metadata": {
        "colab": {
          "base_uri": "https://localhost:8080/"
        },
        "id": "aLlKr51nTdum",
        "outputId": "dee9654d-5a3b-4305-8310-d3d00ec1138a"
      },
      "execution_count": 24,
      "outputs": [
        {
          "output_type": "stream",
          "name": "stdout",
          "text": [
            "         City  avg_rating\n",
            "0  Inner City         4.9\n"
          ]
        }
      ]
    },
    {
      "cell_type": "markdown",
      "source": [
        "####**Summary Task 2**\n",
        "New delhi city has higest 5473 number of restaurants.\n",
        "\n",
        "The Inner City is Higest avg rating 4.9\n",
        "\n",
        "The Faridabad city is lowest avg rating 1.87"
      ],
      "metadata": {
        "id": "PwCmrgBIC4cj"
      }
    },
    {
      "cell_type": "markdown",
      "source": [
        "# **Task 3: Price Range Distribution**\n",
        "\n",
        "1. Create a histogram or bar chart to\n",
        "visualize the distribution of price ranges\n",
        "among the restaurants.\n",
        "\n",
        "2. Calculate the percentage of restaurants\n",
        "in each price range category."
      ],
      "metadata": {
        "id": "u5zrlXyXT6t_"
      }
    },
    {
      "cell_type": "code",
      "source": [
        "# Grouping the restaurants by price range\n",
        "price_range_distribution = df[\"Price range\"].value_counts()\n",
        "\n",
        "# Creating the bar chart\n",
        "plt.figure(figsize=(8, 6))\n",
        "#price_range_distribution.plot(kind='bar', color='skyblue')\n",
        "plt.bar(['1','2','3','4'], list(price_range_distribution.values), color=['green', 'orange', 'skyblue','yellow'])\n",
        "# Adding title and labels\n",
        "plt.title('Distribution of Price Ranges Among Restaurants')\n",
        "plt.xlabel('Price Range')\n",
        "plt.ylabel('Number of Restaurants')\n",
        "\n",
        "# Display the chart\n",
        "plt.show()"
      ],
      "metadata": {
        "colab": {
          "base_uri": "https://localhost:8080/",
          "height": 564
        },
        "id": "nbPl83uhUREd",
        "outputId": "ef9b2207-7020-4703-c28a-ad8d39be9347"
      },
      "execution_count": 25,
      "outputs": [
        {
          "output_type": "display_data",
          "data": {
            "text/plain": [
              "<Figure size 800x600 with 1 Axes>"
            ],
            "image/png": "[encoded data removed]"
          },
          "metadata": {}
        }
      ]
    },
    {
      "cell_type": "code",
      "source": [
        "# SQL query to Calculate the percentage of restaurants in each price range category.\n",
        "query1 = \"\"\"\n",
        "WITH total_restaurants AS (\n",
        "    SELECT COUNT(*) AS total_res\n",
        "    FROM df\n",
        ")\n",
        "SELECT\n",
        "    \"Price range\",\n",
        "    Round((COUNT(*) * 100.0 / total_restaurants.total_res),2) AS percentage_restaurants\n",
        "FROM\n",
        "    df,\n",
        "    total_restaurants\n",
        "GROUP BY \"Price range\"\n",
        "ORDER BY percentage_restaurants DESC\n",
        "    ;\n",
        "\"\"\"\n",
        "\n",
        "# Execute the SQL query\n",
        "percentage_restaurants = psql.sqldf(query1, locals())\n",
        "\n",
        "# Show the result\n",
        "print(percentage_restaurants)"
      ],
      "metadata": {
        "colab": {
          "base_uri": "https://localhost:8080/"
        },
        "id": "xNS3W06rX2qW",
        "outputId": "eeee343e-8e6e-41a9-b46d-0a1ba425b812"
      },
      "execution_count": 15,
      "outputs": [
        {
          "output_type": "stream",
          "name": "stdout",
          "text": [
            "   Price range  percentage_restaurants\n",
            "0            1                   46.53\n",
            "1            2                   32.59\n",
            "2            3                   14.74\n",
            "3            4                    6.14\n"
          ]
        }
      ]
    },
    {
      "cell_type": "markdown",
      "source": [
        "####**Summar Task 3:**\n",
        "\n",
        "The price range 1 has highest count of around 46.53%\n",
        "\n",
        "The price range 2 has count of around 32.59%\n",
        "\n",
        "The price range 3 has count of around 14.74%\n",
        "\n",
        "The price range 1 has lowest count of around 6.14%\n",
        "\n"
      ],
      "metadata": {
        "id": "QsNqsZNfDFui"
      }
    },
    {
      "cell_type": "markdown",
      "source": [
        "# **Task 4: Online Delivery**\n",
        "\n",
        "1. Determine the percentage of restaurants\n",
        "that offer online delivery.\n",
        "\n",
        "2. Compare the average ratings of restaurants\n",
        "with and without online delivery."
      ],
      "metadata": {
        "id": "xuCSIWNPcbwK"
      }
    },
    {
      "cell_type": "code",
      "source": [
        "# SQL query to Determine the percentage of restaurants that offer online delivery.\n",
        "query1 = \"\"\"\n",
        "WITH total_restaurants AS (\n",
        "    SELECT COUNT(*) AS total_res\n",
        "    FROM df\n",
        ")\n",
        "SELECT\n",
        "    \"Has Online delivery\",\n",
        "    Round((COUNT(*) * 100.0 / total_restaurants.total_res),2) AS online_delivery_percentage\n",
        "FROM\n",
        "    df,\n",
        "    total_restaurants\n",
        "    where \"Has Online delivery\" = 'Yes'\n",
        "GROUP BY \"Has Online delivery\"\n",
        "ORDER BY online_delivery_percentage DESC\n",
        "    ;\n",
        "\"\"\"\n",
        "\n",
        "# Execute the SQL query\n",
        "online_delivery_percentage = psql.sqldf(query1, locals())\n",
        "\n",
        "# Show the result\n",
        "print(online_delivery_percentage)"
      ],
      "metadata": {
        "colab": {
          "base_uri": "https://localhost:8080/"
        },
        "id": "riu3bC0Ic8k5",
        "outputId": "b857573e-a53f-4062-9ad9-3307b4af95af"
      },
      "execution_count": 16,
      "outputs": [
        {
          "output_type": "stream",
          "name": "stdout",
          "text": [
            "  Has Online delivery  online_delivery_percentage\n",
            "0                 Yes                       25.66\n"
          ]
        }
      ]
    },
    {
      "cell_type": "code",
      "source": [
        "# SQL query to Compare the average ratings of restaurants with and without online delivery.\n",
        "# First Query: Calculate average ratings and percentages\n",
        "query1 = \"\"\"\n",
        "WITH avg_ratings AS (\n",
        "    SELECT\n",
        "        \"Has Online delivery\",\n",
        "        AVG(\"Aggregate rating\") AS avg_rating,\n",
        "        COUNT(*) * 100.0 / (SELECT COUNT(*) FROM df) AS percentage\n",
        "    FROM\n",
        "        df\n",
        "    GROUP BY\n",
        "        \"Has Online delivery\"\n",
        ")\n",
        "\n",
        "SELECT\n",
        "    \"Has Online delivery\",\n",
        "    avg_rating,\n",
        "    ROUND(percentage, 2) AS percentage\n",
        "FROM\n",
        "    avg_ratings;\n",
        "\"\"\"\n",
        "\n",
        "# Execute the first query\n",
        "avg_ratings = psql.sqldf(query1, locals())\n",
        "\n",
        "# Show the result for avg_ratings\n",
        "print(\"Average Ratings and Percentages:\\n\", avg_ratings)\n",
        "\n",
        "# Second Query: Calculate the comparison ratio\n",
        "query2 = \"\"\"\n",
        "WITH avg_ratings AS (\n",
        "    SELECT\n",
        "        \"Has Online delivery\",\n",
        "        AVG(\"Aggregate rating\") AS avg_rating\n",
        "    FROM\n",
        "        df\n",
        "    GROUP BY\n",
        "        \"Has Online delivery\"\n",
        ")\n",
        "\n",
        "SELECT\n",
        "    MAX(CASE WHEN \"Has Online delivery\" = 'Yes' THEN avg_rating END) /\n",
        "    MAX(CASE WHEN \"Has Online delivery\" = 'No' THEN avg_rating END) AS comparison_ratio\n",
        "FROM\n",
        "    avg_ratings;\n",
        "\"\"\"\n",
        "\n",
        "# Execute the second query\n",
        "rating_comparison = psql.sqldf(query2, locals())\n",
        "\n",
        "# Show the result for rating_comparison\n",
        "print(\"Rating Comparison Ratio:\\n\", rating_comparison)\n"
      ],
      "metadata": {
        "colab": {
          "base_uri": "https://localhost:8080/"
        },
        "id": "Qz6QeKPneGIb",
        "outputId": "d98d5f0c-48f4-4a9e-9abd-3d55bf78496e"
      },
      "execution_count": 17,
      "outputs": [
        {
          "output_type": "stream",
          "name": "stdout",
          "text": [
            "Average Ratings and Percentages:\n",
            "   Has Online delivery  avg_rating  percentage\n",
            "0                  No    2.465296       74.34\n",
            "1                 Yes    3.248837       25.66\n",
            "Rating Comparison Ratio:\n",
            "    comparison_ratio\n",
            "0          1.317829\n"
          ]
        }
      ]
    },
    {
      "cell_type": "markdown",
      "source": [
        "####**Summary Task 4**\n",
        "The Percentage of restaurants that offer online delivery is : 25.66 %\n",
        "\n",
        "Avarage rating with online delivery: 3.25\n",
        "\n",
        "Avarage rating without online delivery: 2.46\n",
        "\n",
        "Comparision of avarage rating with and without Online delivey comparision: 1.32"
      ],
      "metadata": {
        "id": "LSmAJyV4Fe7u"
      }
    }
  ]
}