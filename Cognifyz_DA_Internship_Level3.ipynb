{
  "nbformat": 4,
  "nbformat_minor": 0,
  "metadata": {
    "colab": {
      "provenance": []
    },
    "kernelspec": {
      "name": "python3",
      "display_name": "Python 3"
    },
    "language_info": {
      "name": "python"
    }
  },
  "cells": [
    {
      "cell_type": "code",
      "execution_count": null,
      "metadata": {
        "id": "1VOs9e3ma3iV"
      },
      "outputs": [],
      "source": []
    },
    {
      "cell_type": "markdown",
      "source": [
        "# **Crafting Strategic Insights In Restaurant Ratings - Level 3**"
      ],
      "metadata": {
        "id": "CVZeIDpbbmje"
      }
    },
    {
      "cell_type": "markdown",
      "source": [
        "## **Importing Necessary Libraries and importing dataset**"
      ],
      "metadata": {
        "id": "LhYOEaljkK2o"
      }
    },
    {
      "cell_type": "code",
      "source": [
        "# Install pandasql\n",
        "!pip install pandasql\n",
        "import pandasql as psql\n",
        "\n",
        "# Import Libraries\n",
        "import pandas as pd\n",
        "import numpy as np\n",
        "import seaborn as sns\n",
        "import matplotlib.pyplot as plt\n",
        "from sklearn.preprocessing import StandardScaler\n",
        "from sklearn.cluster import KMeans\n"
      ],
      "metadata": {
        "colab": {
          "base_uri": "https://localhost:8080/"
        },
        "id": "jKYUDdpEks9K",
        "outputId": "86048c4e-e2be-40d5-c620-4e60770a973f"
      },
      "execution_count": 1,
      "outputs": [
        {
          "output_type": "stream",
          "name": "stdout",
          "text": [
            "Collecting pandasql\n",
            "  Downloading pandasql-0.7.3.tar.gz (26 kB)\n",
            "  Preparing metadata (setup.py) ... \u001b[?25l\u001b[?25hdone\n",
            "Requirement already satisfied: numpy in /usr/local/lib/python3.10/dist-packages (from pandasql) (1.26.4)\n",
            "Requirement already satisfied: pandas in /usr/local/lib/python3.10/dist-packages (from pandasql) (2.2.2)\n",
            "Requirement already satisfied: sqlalchemy in /usr/local/lib/python3.10/dist-packages (from pandasql) (2.0.36)\n",
            "Requirement already satisfied: python-dateutil>=2.8.2 in /usr/local/lib/python3.10/dist-packages (from pandas->pandasql) (2.8.2)\n",
            "Requirement already satisfied: pytz>=2020.1 in /usr/local/lib/python3.10/dist-packages (from pandas->pandasql) (2024.2)\n",
            "Requirement already satisfied: tzdata>=2022.7 in /usr/local/lib/python3.10/dist-packages (from pandas->pandasql) (2024.2)\n",
            "Requirement already satisfied: typing-extensions>=4.6.0 in /usr/local/lib/python3.10/dist-packages (from sqlalchemy->pandasql) (4.12.2)\n",
            "Requirement already satisfied: greenlet!=0.4.17 in /usr/local/lib/python3.10/dist-packages (from sqlalchemy->pandasql) (3.1.1)\n",
            "Requirement already satisfied: six>=1.5 in /usr/local/lib/python3.10/dist-packages (from python-dateutil>=2.8.2->pandas->pandasql) (1.16.0)\n",
            "Building wheels for collected packages: pandasql\n",
            "  Building wheel for pandasql (setup.py) ... \u001b[?25l\u001b[?25hdone\n",
            "  Created wheel for pandasql: filename=pandasql-0.7.3-py3-none-any.whl size=26772 sha256=60b8917edcfecf331fee560c61bfc09696e92c8485e53db746370341d9a19c51\n",
            "  Stored in directory: /root/.cache/pip/wheels/e9/bc/3a/8434bdcccf5779e72894a9b24fecbdcaf97940607eaf4bcdf9\n",
            "Successfully built pandasql\n",
            "Installing collected packages: pandasql\n",
            "Successfully installed pandasql-0.7.3\n"
          ]
        }
      ]
    },
    {
      "cell_type": "markdown",
      "source": [
        "## **Read the CSV file**"
      ],
      "metadata": {
        "id": "ip9OJsrNlRK-"
      }
    },
    {
      "cell_type": "code",
      "source": [
        "# Upload the CSV file manually in Colab first\n",
        "# Then read the CSV file into a pandas DataFrame\n",
        "url= \"https://raw.githubusercontent.com/LeelaYathapu/Cognifyz-Restaurant-Service-Analysis/refs/heads/main/Cleaned_Dataset.csv\"\n",
        "df = pd.read_csv(url)\n",
        "\n",
        "# Display the first few rows of the DataFrame\n",
        "df.head()"
      ],
      "metadata": {
        "colab": {
          "base_uri": "https://localhost:8080/",
          "height": 811
        },
        "id": "IimDVdfelQVb",
        "outputId": "8dd4cfda-108b-4d33-9eba-cee87c784dce"
      },
      "execution_count": 2,
      "outputs": [
        {
          "output_type": "execute_result",
          "data": {
            "text/plain": [
              "   Restaurant ID         Restaurant Name  Country Code              City  \\\n",
              "0        6317637        Le Petit Souffle           162       Makati City   \n",
              "1        6304287        Izakaya Kikufuji           162       Makati City   \n",
              "2        6300002  Heat - Edsa Shangri-La           162  Mandaluyong City   \n",
              "3        6318506                    Ooma           162  Mandaluyong City   \n",
              "4        6314302             Sambo Kojin           162  Mandaluyong City   \n",
              "\n",
              "                                             Address  \\\n",
              "0  Third Floor, Century City Mall, Kalayaan Avenu...   \n",
              "1  Little Tokyo, 2277 Chino Roces Avenue, Legaspi...   \n",
              "2  Edsa Shangri-La, 1 Garden Way, Ortigas, Mandal...   \n",
              "3  Third Floor, Mega Fashion Hall, SM Megamall, O...   \n",
              "4  Third Floor, Mega Atrium, SM Megamall, Ortigas...   \n",
              "\n",
              "                                     Locality  \\\n",
              "0   Century City Mall, Poblacion, Makati City   \n",
              "1  Little Tokyo, Legaspi Village, Makati City   \n",
              "2  Edsa Shangri-La, Ortigas, Mandaluyong City   \n",
              "3      SM Megamall, Ortigas, Mandaluyong City   \n",
              "4      SM Megamall, Ortigas, Mandaluyong City   \n",
              "\n",
              "                                    Locality Verbose   Longitude   Latitude  \\\n",
              "0  Century City Mall, Poblacion, Makati City, Mak...  121.027535  14.565443   \n",
              "1  Little Tokyo, Legaspi Village, Makati City, Ma...  121.014101  14.553708   \n",
              "2  Edsa Shangri-La, Ortigas, Mandaluyong City, Ma...  121.056831  14.581404   \n",
              "3  SM Megamall, Ortigas, Mandaluyong City, Mandal...  121.056475  14.585318   \n",
              "4  SM Megamall, Ortigas, Mandaluyong City, Mandal...  121.057508  14.584450   \n",
              "\n",
              "                           Cuisines  ...          Currency Has Table booking  \\\n",
              "0        French, Japanese, Desserts  ...  Botswana Pula(P)               Yes   \n",
              "1                          Japanese  ...  Botswana Pula(P)               Yes   \n",
              "2  Seafood, Asian, Filipino, Indian  ...  Botswana Pula(P)               Yes   \n",
              "3                   Japanese, Sushi  ...  Botswana Pula(P)                No   \n",
              "4                  Japanese, Korean  ...  Botswana Pula(P)               Yes   \n",
              "\n",
              "  Has Online delivery Is delivering now Switch to order menu Price range  \\\n",
              "0                  No                No                   No           3   \n",
              "1                  No                No                   No           3   \n",
              "2                  No                No                   No           4   \n",
              "3                  No                No                   No           4   \n",
              "4                  No                No                   No           4   \n",
              "\n",
              "   Aggregate rating  Rating color Rating text Votes  \n",
              "0               4.8    Dark Green   Excellent   314  \n",
              "1               4.5    Dark Green   Excellent   591  \n",
              "2               4.4         Green   Very Good   270  \n",
              "3               4.9    Dark Green   Excellent   365  \n",
              "4               4.8    Dark Green   Excellent   229  \n",
              "\n",
              "[5 rows x 21 columns]"
            ],
            "text/html": [
              "\n",
              "  <div id=\"df-8677a3ac-73de-433d-9e80-afd65351e9ff\" class=\"colab-df-container\">\n",
              "    <div>\n",
              "<style scoped>\n",
              "    .dataframe tbody tr th:only-of-type {\n",
              "        vertical-align: middle;\n",
              "    }\n",
              "\n",
              "    .dataframe tbody tr th {\n",
              "        vertical-align: top;\n",
              "    }\n",
              "\n",
              "    .dataframe thead th {\n",
              "        text-align: right;\n",
              "    }\n",
              "</style>\n",
              "<table border=\"1\" class=\"dataframe\">\n",
              "  <thead>\n",
              "    <tr style=\"text-align: right;\">\n",
              "      <th></th>\n",
              "      <th>Restaurant ID</th>\n",
              "      <th>Restaurant Name</th>\n",
              "      <th>Country Code</th>\n",
              "      <th>City</th>\n",
              "      <th>Address</th>\n",
              "      <th>Locality</th>\n",
              "      <th>Locality Verbose</th>\n",
              "      <th>Longitude</th>\n",
              "      <th>Latitude</th>\n",
              "      <th>Cuisines</th>\n",
              "      <th>...</th>\n",
              "      <th>Currency</th>\n",
              "      <th>Has Table booking</th>\n",
              "      <th>Has Online delivery</th>\n",
              "      <th>Is delivering now</th>\n",
              "      <th>Switch to order menu</th>\n",
              "      <th>Price range</th>\n",
              "      <th>Aggregate rating</th>\n",
              "      <th>Rating color</th>\n",
              "      <th>Rating text</th>\n",
              "      <th>Votes</th>\n",
              "    </tr>\n",
              "  </thead>\n",
              "  <tbody>\n",
              "    <tr>\n",
              "      <th>0</th>\n",
              "      <td>6317637</td>\n",
              "      <td>Le Petit Souffle</td>\n",
              "      <td>162</td>\n",
              "      <td>Makati City</td>\n",
              "      <td>Third Floor, Century City Mall, Kalayaan Avenu...</td>\n",
              "      <td>Century City Mall, Poblacion, Makati City</td>\n",
              "      <td>Century City Mall, Poblacion, Makati City, Mak...</td>\n",
              "      <td>121.027535</td>\n",
              "      <td>14.565443</td>\n",
              "      <td>French, Japanese, Desserts</td>\n",
              "      <td>...</td>\n",
              "      <td>Botswana Pula(P)</td>\n",
              "      <td>Yes</td>\n",
              "      <td>No</td>\n",
              "      <td>No</td>\n",
              "      <td>No</td>\n",
              "      <td>3</td>\n",
              "      <td>4.8</td>\n",
              "      <td>Dark Green</td>\n",
              "      <td>Excellent</td>\n",
              "      <td>314</td>\n",
              "    </tr>\n",
              "    <tr>\n",
              "      <th>1</th>\n",
              "      <td>6304287</td>\n",
              "      <td>Izakaya Kikufuji</td>\n",
              "      <td>162</td>\n",
              "      <td>Makati City</td>\n",
              "      <td>Little Tokyo, 2277 Chino Roces Avenue, Legaspi...</td>\n",
              "      <td>Little Tokyo, Legaspi Village, Makati City</td>\n",
              "      <td>Little Tokyo, Legaspi Village, Makati City, Ma...</td>\n",
              "      <td>121.014101</td>\n",
              "      <td>14.553708</td>\n",
              "      <td>Japanese</td>\n",
              "      <td>...</td>\n",
              "      <td>Botswana Pula(P)</td>\n",
              "      <td>Yes</td>\n",
              "      <td>No</td>\n",
              "      <td>No</td>\n",
              "      <td>No</td>\n",
              "      <td>3</td>\n",
              "      <td>4.5</td>\n",
              "      <td>Dark Green</td>\n",
              "      <td>Excellent</td>\n",
              "      <td>591</td>\n",
              "    </tr>\n",
              "    <tr>\n",
              "      <th>2</th>\n",
              "      <td>6300002</td>\n",
              "      <td>Heat - Edsa Shangri-La</td>\n",
              "      <td>162</td>\n",
              "      <td>Mandaluyong City</td>\n",
              "      <td>Edsa Shangri-La, 1 Garden Way, Ortigas, Mandal...</td>\n",
              "      <td>Edsa Shangri-La, Ortigas, Mandaluyong City</td>\n",
              "      <td>Edsa Shangri-La, Ortigas, Mandaluyong City, Ma...</td>\n",
              "      <td>121.056831</td>\n",
              "      <td>14.581404</td>\n",
              "      <td>Seafood, Asian, Filipino, Indian</td>\n",
              "      <td>...</td>\n",
              "      <td>Botswana Pula(P)</td>\n",
              "      <td>Yes</td>\n",
              "      <td>No</td>\n",
              "      <td>No</td>\n",
              "      <td>No</td>\n",
              "      <td>4</td>\n",
              "      <td>4.4</td>\n",
              "      <td>Green</td>\n",
              "      <td>Very Good</td>\n",
              "      <td>270</td>\n",
              "    </tr>\n",
              "    <tr>\n",
              "      <th>3</th>\n",
              "      <td>6318506</td>\n",
              "      <td>Ooma</td>\n",
              "      <td>162</td>\n",
              "      <td>Mandaluyong City</td>\n",
              "      <td>Third Floor, Mega Fashion Hall, SM Megamall, O...</td>\n",
              "      <td>SM Megamall, Ortigas, Mandaluyong City</td>\n",
              "      <td>SM Megamall, Ortigas, Mandaluyong City, Mandal...</td>\n",
              "      <td>121.056475</td>\n",
              "      <td>14.585318</td>\n",
              "      <td>Japanese, Sushi</td>\n",
              "      <td>...</td>\n",
              "      <td>Botswana Pula(P)</td>\n",
              "      <td>No</td>\n",
              "      <td>No</td>\n",
              "      <td>No</td>\n",
              "      <td>No</td>\n",
              "      <td>4</td>\n",
              "      <td>4.9</td>\n",
              "      <td>Dark Green</td>\n",
              "      <td>Excellent</td>\n",
              "      <td>365</td>\n",
              "    </tr>\n",
              "    <tr>\n",
              "      <th>4</th>\n",
              "      <td>6314302</td>\n",
              "      <td>Sambo Kojin</td>\n",
              "      <td>162</td>\n",
              "      <td>Mandaluyong City</td>\n",
              "      <td>Third Floor, Mega Atrium, SM Megamall, Ortigas...</td>\n",
              "      <td>SM Megamall, Ortigas, Mandaluyong City</td>\n",
              "      <td>SM Megamall, Ortigas, Mandaluyong City, Mandal...</td>\n",
              "      <td>121.057508</td>\n",
              "      <td>14.584450</td>\n",
              "      <td>Japanese, Korean</td>\n",
              "      <td>...</td>\n",
              "      <td>Botswana Pula(P)</td>\n",
              "      <td>Yes</td>\n",
              "      <td>No</td>\n",
              "      <td>No</td>\n",
              "      <td>No</td>\n",
              "      <td>4</td>\n",
              "      <td>4.8</td>\n",
              "      <td>Dark Green</td>\n",
              "      <td>Excellent</td>\n",
              "      <td>229</td>\n",
              "    </tr>\n",
              "  </tbody>\n",
              "</table>\n",
              "<p>5 rows × 21 columns</p>\n",
              "</div>\n",
              "    <div class=\"colab-df-buttons\">\n",
              "\n",
              "  <div class=\"colab-df-container\">\n",
              "    <button class=\"colab-df-convert\" onclick=\"convertToInteractive('df-8677a3ac-73de-433d-9e80-afd65351e9ff')\"\n",
              "            title=\"Convert this dataframe to an interactive table.\"\n",
              "            style=\"display:none;\">\n",
              "\n",
              "  <svg xmlns=\"http://www.w3.org/2000/svg\" height=\"24px\" viewBox=\"0 -960 960 960\">\n",
              "    <path d=\"M120-120v-720h720v720H120Zm60-500h600v-160H180v160Zm220 220h160v-160H400v160Zm0 220h160v-160H400v160ZM180-400h160v-160H180v160Zm440 0h160v-160H620v160ZM180-180h160v-160H180v160Zm440 0h160v-160H620v160Z\"/>\n",
              "  </svg>\n",
              "    </button>\n",
              "\n",
              "  <style>\n",
              "    .colab-df-container {\n",
              "      display:flex;\n",
              "      gap: 12px;\n",
              "    }\n",
              "\n",
              "    .colab-df-convert {\n",
              "      background-color: #E8F0FE;\n",
              "      border: none;\n",
              "      border-radius: 50%;\n",
              "      cursor: pointer;\n",
              "      display: none;\n",
              "      fill: #1967D2;\n",
              "      height: 32px;\n",
              "      padding: 0 0 0 0;\n",
              "      width: 32px;\n",
              "    }\n",
              "\n",
              "    .colab-df-convert:hover {\n",
              "      background-color: #E2EBFA;\n",
              "      box-shadow: 0px 1px 2px rgba(60, 64, 67, 0.3), 0px 1px 3px 1px rgba(60, 64, 67, 0.15);\n",
              "      fill: #174EA6;\n",
              "    }\n",
              "\n",
              "    .colab-df-buttons div {\n",
              "      margin-bottom: 4px;\n",
              "    }\n",
              "\n",
              "    [theme=dark] .colab-df-convert {\n",
              "      background-color: #3B4455;\n",
              "      fill: #D2E3FC;\n",
              "    }\n",
              "\n",
              "    [theme=dark] .colab-df-convert:hover {\n",
              "      background-color: #434B5C;\n",
              "      box-shadow: 0px 1px 3px 1px rgba(0, 0, 0, 0.15);\n",
              "      filter: drop-shadow(0px 1px 2px rgba(0, 0, 0, 0.3));\n",
              "      fill: #FFFFFF;\n",
              "    }\n",
              "  </style>\n",
              "\n",
              "    <script>\n",
              "      const buttonEl =\n",
              "        document.querySelector('#df-8677a3ac-73de-433d-9e80-afd65351e9ff button.colab-df-convert');\n",
              "      buttonEl.style.display =\n",
              "        google.colab.kernel.accessAllowed ? 'block' : 'none';\n",
              "\n",
              "      async function convertToInteractive(key) {\n",
              "        const element = document.querySelector('#df-8677a3ac-73de-433d-9e80-afd65351e9ff');\n",
              "        const dataTable =\n",
              "          await google.colab.kernel.invokeFunction('convertToInteractive',\n",
              "                                                    [key], {});\n",
              "        if (!dataTable) return;\n",
              "\n",
              "        const docLinkHtml = 'Like what you see? Visit the ' +\n",
              "          '<a target=\"_blank\" href=https://colab.research.google.com/notebooks/data_table.ipynb>data table notebook</a>'\n",
              "          + ' to learn more about interactive tables.';\n",
              "        element.innerHTML = '';\n",
              "        dataTable['output_type'] = 'display_data';\n",
              "        await google.colab.output.renderOutput(dataTable, element);\n",
              "        const docLink = document.createElement('div');\n",
              "        docLink.innerHTML = docLinkHtml;\n",
              "        element.appendChild(docLink);\n",
              "      }\n",
              "    </script>\n",
              "  </div>\n",
              "\n",
              "\n",
              "<div id=\"df-4ef72d98-52a6-4a43-9048-3c0cc3ec4437\">\n",
              "  <button class=\"colab-df-quickchart\" onclick=\"quickchart('df-4ef72d98-52a6-4a43-9048-3c0cc3ec4437')\"\n",
              "            title=\"Suggest charts\"\n",
              "            style=\"display:none;\">\n",
              "\n",
              "<svg xmlns=\"http://www.w3.org/2000/svg\" height=\"24px\"viewBox=\"0 0 24 24\"\n",
              "     width=\"24px\">\n",
              "    <g>\n",
              "        <path d=\"M19 3H5c-1.1 0-2 .9-2 2v14c0 1.1.9 2 2 2h14c1.1 0 2-.9 2-2V5c0-1.1-.9-2-2-2zM9 17H7v-7h2v7zm4 0h-2V7h2v10zm4 0h-2v-4h2v4z\"/>\n",
              "    </g>\n",
              "</svg>\n",
              "  </button>\n",
              "\n",
              "<style>\n",
              "  .colab-df-quickchart {\n",
              "      --bg-color: #E8F0FE;\n",
              "      --fill-color: #1967D2;\n",
              "      --hover-bg-color: #E2EBFA;\n",
              "      --hover-fill-color: #174EA6;\n",
              "      --disabled-fill-color: #AAA;\n",
              "      --disabled-bg-color: #DDD;\n",
              "  }\n",
              "\n",
              "  [theme=dark] .colab-df-quickchart {\n",
              "      --bg-color: #3B4455;\n",
              "      --fill-color: #D2E3FC;\n",
              "      --hover-bg-color: #434B5C;\n",
              "      --hover-fill-color: #FFFFFF;\n",
              "      --disabled-bg-color: #3B4455;\n",
              "      --disabled-fill-color: #666;\n",
              "  }\n",
              "\n",
              "  .colab-df-quickchart {\n",
              "    background-color: var(--bg-color);\n",
              "    border: none;\n",
              "    border-radius: 50%;\n",
              "    cursor: pointer;\n",
              "    display: none;\n",
              "    fill: var(--fill-color);\n",
              "    height: 32px;\n",
              "    padding: 0;\n",
              "    width: 32px;\n",
              "  }\n",
              "\n",
              "  .colab-df-quickchart:hover {\n",
              "    background-color: var(--hover-bg-color);\n",
              "    box-shadow: 0 1px 2px rgba(60, 64, 67, 0.3), 0 1px 3px 1px rgba(60, 64, 67, 0.15);\n",
              "    fill: var(--button-hover-fill-color);\n",
              "  }\n",
              "\n",
              "  .colab-df-quickchart-complete:disabled,\n",
              "  .colab-df-quickchart-complete:disabled:hover {\n",
              "    background-color: var(--disabled-bg-color);\n",
              "    fill: var(--disabled-fill-color);\n",
              "    box-shadow: none;\n",
              "  }\n",
              "\n",
              "  .colab-df-spinner {\n",
              "    border: 2px solid var(--fill-color);\n",
              "    border-color: transparent;\n",
              "    border-bottom-color: var(--fill-color);\n",
              "    animation:\n",
              "      spin 1s steps(1) infinite;\n",
              "  }\n",
              "\n",
              "  @keyframes spin {\n",
              "    0% {\n",
              "      border-color: transparent;\n",
              "      border-bottom-color: var(--fill-color);\n",
              "      border-left-color: var(--fill-color);\n",
              "    }\n",
              "    20% {\n",
              "      border-color: transparent;\n",
              "      border-left-color: var(--fill-color);\n",
              "      border-top-color: var(--fill-color);\n",
              "    }\n",
              "    30% {\n",
              "      border-color: transparent;\n",
              "      border-left-color: var(--fill-color);\n",
              "      border-top-color: var(--fill-color);\n",
              "      border-right-color: var(--fill-color);\n",
              "    }\n",
              "    40% {\n",
              "      border-color: transparent;\n",
              "      border-right-color: var(--fill-color);\n",
              "      border-top-color: var(--fill-color);\n",
              "    }\n",
              "    60% {\n",
              "      border-color: transparent;\n",
              "      border-right-color: var(--fill-color);\n",
              "    }\n",
              "    80% {\n",
              "      border-color: transparent;\n",
              "      border-right-color: var(--fill-color);\n",
              "      border-bottom-color: var(--fill-color);\n",
              "    }\n",
              "    90% {\n",
              "      border-color: transparent;\n",
              "      border-bottom-color: var(--fill-color);\n",
              "    }\n",
              "  }\n",
              "</style>\n",
              "\n",
              "  <script>\n",
              "    async function quickchart(key) {\n",
              "      const quickchartButtonEl =\n",
              "        document.querySelector('#' + key + ' button');\n",
              "      quickchartButtonEl.disabled = true;  // To prevent multiple clicks.\n",
              "      quickchartButtonEl.classList.add('colab-df-spinner');\n",
              "      try {\n",
              "        const charts = await google.colab.kernel.invokeFunction(\n",
              "            'suggestCharts', [key], {});\n",
              "      } catch (error) {\n",
              "        console.error('Error during call to suggestCharts:', error);\n",
              "      }\n",
              "      quickchartButtonEl.classList.remove('colab-df-spinner');\n",
              "      quickchartButtonEl.classList.add('colab-df-quickchart-complete');\n",
              "    }\n",
              "    (() => {\n",
              "      let quickchartButtonEl =\n",
              "        document.querySelector('#df-4ef72d98-52a6-4a43-9048-3c0cc3ec4437 button');\n",
              "      quickchartButtonEl.style.display =\n",
              "        google.colab.kernel.accessAllowed ? 'block' : 'none';\n",
              "    })();\n",
              "  </script>\n",
              "</div>\n",
              "\n",
              "    </div>\n",
              "  </div>\n"
            ],
            "application/vnd.google.colaboratory.intrinsic+json": {
              "type": "dataframe",
              "variable_name": "df"
            }
          },
          "metadata": {},
          "execution_count": 2
        }
      ]
    },
    {
      "cell_type": "markdown",
      "source": [
        "# **Task 1: Restaurant Reviews**\n",
        "\n",
        "1. Analyze the text reviews to identify the most\n",
        "common positive and negative keywords.\n",
        "\n",
        "2. Calculate the average length of reviews and\n",
        "explore if there is a relationship between\n",
        "review length and rating."
      ],
      "metadata": {
        "id": "fu3HRsfzgD2F"
      }
    },
    {
      "cell_type": "code",
      "source": [
        "# Write SQL query and run it in DataFrame\n",
        "\n",
        "# SQL query to Analyze the text reviews to identify the most common positive and negative keywords\n",
        "query1 = \"\"\"\n",
        "select distinct (\"Rating text\")\n",
        "from df\n",
        ";\n",
        "\"\"\"\n",
        "# Execute the SQL query\n",
        "reviews_text = psql.sqldf(query1, locals())\n",
        "\n",
        "# Show the result\n",
        "print(reviews_text)\n",
        "\n",
        "query2 = \"\"\"\n",
        "SELECT\n",
        "    CASE\n",
        "        WHEN \"Rating text\" IN (\"Excellent\",\"Very Good\") THEN 'Positive'\n",
        "        WHEN \"Rating text\" IN (\"Average\",\"Good\") THEN 'Neutral'\n",
        "        WHEN \"Rating text\" IN (\"Poor\") THEN 'Negative'\n",
        "        ELSE 'Not rated'\n",
        "    END AS review_feedback,\n",
        "    COUNT(*) AS review_count\n",
        "FROM\n",
        "    df\n",
        "GROUP BY\n",
        "    review_feedback\n",
        "ORDER BY\n",
        "    review_count DESC;\n",
        "\n",
        "\"\"\"\n",
        "# Execute the SQL query\n",
        "review_feedback = psql.sqldf(query2, locals())\n",
        "\n",
        "# Show the result\n",
        "print(review_feedback)"
      ],
      "metadata": {
        "colab": {
          "base_uri": "https://localhost:8080/"
        },
        "id": "Q11u7jPQjlrs",
        "outputId": "aeba5a41-8aab-4401-8ba1-f6ef72132bbf"
      },
      "execution_count": 3,
      "outputs": [
        {
          "output_type": "stream",
          "name": "stdout",
          "text": [
            "  Rating text\n",
            "0   Excellent\n",
            "1   Very Good\n",
            "2        Good\n",
            "3     Average\n",
            "4   Not rated\n",
            "5        Poor\n",
            "  review_feedback  review_count\n",
            "0         Neutral          5830\n",
            "1       Not rated          2148\n",
            "2        Positive          1378\n",
            "3        Negative           186\n"
          ]
        }
      ]
    },
    {
      "cell_type": "code",
      "source": [
        "# SQL query to Calculate the average length of reviews and explore if there is a relationship between review length and rating.\n",
        "# Step 1: Calculate the length of each review (by words)\n",
        "df['review_length'] = df[\"Rating text\"].apply(lambda x: len(str(x).split()))\n",
        "\n",
        "# Step 2: Calculate the average length of reviews\n",
        "average_review_length = df['review_length'].mean()\n",
        "print(f\"Average Review Length (words): {average_review_length}\")\n",
        "\n",
        "# Step 3: Explore the relationship between review length and rating\n",
        "# Checking correlation between review length and rating\n",
        "correlation = df[['review_length', \"Aggregate rating\"]].corr()\n",
        "\n",
        "print(\"Correlation between review length and rating:\")\n",
        "print(correlation)\n",
        "\n",
        "# Optional: Visualize the relationship between review length and rating using scatter plot\n",
        "import matplotlib.pyplot as plt\n",
        "import seaborn as sns\n",
        "\n",
        "plt.figure(figsize=(8, 6))\n",
        "sns.scatterplot(x='review_length', y=\"Aggregate rating\", data=df)\n",
        "plt.title('Review Length vs Rating')\n",
        "plt.xlabel('Review Length (words)')\n",
        "plt.ylabel('Rating')\n",
        "plt.show()\n",
        "\n"
      ],
      "metadata": {
        "colab": {
          "base_uri": "https://localhost:8080/",
          "height": 653
        },
        "id": "Etnzm4wguFkE",
        "outputId": "68166015-b195-4169-bfd1-5ca8da2e014a"
      },
      "execution_count": 4,
      "outputs": [
        {
          "output_type": "stream",
          "name": "stdout",
          "text": [
            "Average Review Length (words): 1.3380842590651856\n",
            "Correlation between review length and rating:\n",
            "                  review_length  Aggregate rating\n",
            "review_length          1.000000         -0.599682\n",
            "Aggregate rating      -0.599682          1.000000\n"
          ]
        },
        {
          "output_type": "display_data",
          "data": {
            "text/plain": [
              "<Figure size 800x600 with 1 Axes>"
            ],
            "image/png": "[encoded data removed]"
          },
          "metadata": {}
        }
      ]
    },
    {
      "cell_type": "markdown",
      "source": [
        "# **Task 2: Votes Analysis**\n",
        "\n",
        "1. Identify the restaurants with the highest and\n",
        "lowest number of votes.\n",
        "\n",
        "2. Analyze if there is a correlation between the\n",
        "number of votes and the rating of a\n",
        "restaurant."
      ],
      "metadata": {
        "id": "czE5DN7gP9T_"
      }
    },
    {
      "cell_type": "code",
      "source": [
        "# SQL query to Identify the restaurants with the highest and lowest number of votes.\n",
        "query1 = \"\"\"\n",
        "-- Top 5 restaurants with the highest votes\n",
        "SELECT\n",
        "    \"Restaurant Name\",\n",
        "    \"Votes\",\n",
        "    \"Aggregate rating\"\n",
        "FROM\n",
        "    df\n",
        "ORDER BY\n",
        "    \"Votes\" DESC\n",
        "LIMIT 5;\n",
        "\"\"\"\n",
        "#Bottom 5 restaurants with the lowest votes\n",
        "query2 = \"\"\"\n",
        "SELECT\n",
        "    \"Restaurant Name\",\n",
        "    \"Votes\",\n",
        "    \"Aggregate rating\"\n",
        "FROM\n",
        "    df\n",
        "ORDER BY\n",
        "    \"Votes\" ASC\n",
        "LIMIT 5;\n",
        "\n",
        "\"\"\"\n",
        "# Execute the SQL query\n",
        "highest_votes = psql.sqldf(query1, locals())\n",
        "lowest_votes = psql.sqldf(query2, locals())\n",
        "\n",
        "# Show the results\n",
        "print(\"Top 5 restaurants with the highest votes:\")\n",
        "print(highest_votes)\n",
        "\n",
        "print(\"\\nBottom 5 restaurants with the lowest votes:\")\n",
        "print(lowest_votes)\n",
        "\n"
      ],
      "metadata": {
        "colab": {
          "base_uri": "https://localhost:8080/"
        },
        "id": "0FE6c2uRQ48d",
        "outputId": "a8c19711-d731-4efb-c140-e35c2c1c22bc"
      },
      "execution_count": 5,
      "outputs": [
        {
          "output_type": "stream",
          "name": "stdout",
          "text": [
            "Top 5 restaurants with the highest votes:\n",
            "             Restaurant Name  Votes  Aggregate rating\n",
            "0                       Toit  10934               4.8\n",
            "1                   Truffles   9667               4.7\n",
            "2           Hauz Khas Social   7931               4.3\n",
            "3                  Peter Cat   7574               4.3\n",
            "4  AB's - Absolute Barbecues   6907               4.6\n",
            "\n",
            "Bottom 5 restaurants with the lowest votes:\n",
            "      Restaurant Name  Votes  Aggregate rating\n",
            "0    Cantinho da Gula      0               0.0\n",
            "1       The Chaiwalas      0               0.0\n",
            "2  Fusion Food Corner      0               0.0\n",
            "3       Punjabi Rasoi      0               0.0\n",
            "4       Baskin Robbin      0               0.0\n"
          ]
        }
      ]
    },
    {
      "cell_type": "code",
      "source": [
        "\n",
        "\n",
        "# Calculate the correlation between Votes and Aggregate rating\n",
        "votes_rating_correlation = df['Votes'].corr(df['Aggregate rating'])\n",
        "\n",
        "# Display the correlation result\n",
        "print(\"Correlation between Votes and Rating:\", votes_rating_correlation)\n"
      ],
      "metadata": {
        "colab": {
          "base_uri": "https://localhost:8080/"
        },
        "id": "uvzNgXRXsC_G",
        "outputId": "cfc7e0db-59cd-4eac-8e54-eef2f326012e"
      },
      "execution_count": 6,
      "outputs": [
        {
          "output_type": "stream",
          "name": "stdout",
          "text": [
            "Correlation between Votes and Rating: 0.3134741803250004\n"
          ]
        }
      ]
    },
    {
      "cell_type": "code",
      "source": [
        "# SQL query to Analyze if there is a correlation between the number of votes and the rating of a restaurant.\n",
        "\n",
        "# Step 1: Check for missing values\n",
        "print(df[['Votes', \"Aggregate rating\"]].isnull().sum())\n",
        "\n",
        "# drop rows with missing values in 'votes' or 'rating'\n",
        "df_clean = df.dropna(subset=['Votes', \"Aggregate rating\"])\n",
        "\n",
        "# Step 2: Calculate the correlation between votes and rating\n",
        "correlation = df_clean[['Votes', \"Aggregate rating\"]].corr()\n",
        "print(\"Correlation between votes and rating:\")\n",
        "print(correlation)\n",
        "\n",
        "# Step 3: Visualize the relationship between votes and rating\n",
        "plt.figure(figsize=(8, 6))\n",
        "sns.scatterplot(x='Votes', y=\"Aggregate rating\", data=df_clean)\n",
        "plt.title('Votes vs Rating')\n",
        "plt.xlabel('Number of Votes')\n",
        "plt.ylabel('Rating')\n",
        "plt.show()\n"
      ],
      "metadata": {
        "colab": {
          "base_uri": "https://localhost:8080/",
          "height": 689
        },
        "id": "pJAGI6TpSd_D",
        "outputId": "0c8cf514-bc13-48db-d7f5-513fc6a81a75"
      },
      "execution_count": 7,
      "outputs": [
        {
          "output_type": "stream",
          "name": "stdout",
          "text": [
            "Votes               0\n",
            "Aggregate rating    0\n",
            "dtype: int64\n",
            "Correlation between votes and rating:\n",
            "                     Votes  Aggregate rating\n",
            "Votes             1.000000          0.313474\n",
            "Aggregate rating  0.313474          1.000000\n"
          ]
        },
        {
          "output_type": "display_data",
          "data": {
            "text/plain": [
              "<Figure size 800x600 with 1 Axes>"
            ],
            "image/png": "[encoded data removed]"
          },
          "metadata": {}
        }
      ]
    },
    {
      "cell_type": "markdown",
      "source": [
        "# **Task 3: Price Range vs. Online Delivery and Table Booking**\n",
        "\n",
        "1. Analyze if there is a relationship between the\n",
        "price range and the availability of online\n",
        "delivery and table booking.\n",
        "\n",
        "2. Determine if higher-priced restaurants are\n",
        "more likely to offer these services."
      ],
      "metadata": {
        "id": "u5zrlXyXT6t_"
      }
    },
    {
      "cell_type": "code",
      "source": [
        "\n",
        "# Set up the style for the visualizations\n",
        "sns.set(style=\"whitegrid\")\n",
        "\n",
        "# Group data by Price range and availability of services\n",
        "online_delivery_counts = df.groupby(['Price range', 'Has Online delivery']).size().unstack()\n",
        "table_booking_counts = df.groupby(['Price range', 'Has Table booking']).size().unstack()\n",
        "\n",
        "# Plot Online Delivery by Price Range\n",
        "fig, axes = plt.subplots(1, 2, figsize=(14, 6))\n",
        "\n",
        "online_delivery_counts.plot(kind='bar', stacked=True, ax=axes[0], color=['#3498db', '#e74c3c'])\n",
        "axes[0].set_title('Online Delivery by Price Range')\n",
        "axes[0].set_xlabel('Price Range')\n",
        "axes[0].set_ylabel('Number of Restaurants')\n",
        "axes[0].legend(title='Has Online Delivery')\n",
        "\n",
        "# Plot Table Booking by Price Range\n",
        "table_booking_counts.plot(kind='bar', stacked=True, ax=axes[1], color=['#2ecc71', '#e67e22'])\n",
        "axes[1].set_title('Table Booking by Price Range')\n",
        "axes[1].set_xlabel('Price Range')\n",
        "axes[1].set_ylabel('Number of Restaurants')\n",
        "axes[1].legend(title='Has Table Booking')\n",
        "\n",
        "plt.tight_layout()\n",
        "plt.show()\n"
      ],
      "metadata": {
        "colab": {
          "base_uri": "https://localhost:8080/",
          "height": 446
        },
        "id": "nbPl83uhUREd",
        "outputId": "aeefd3b6-e335-4723-82a7-ea2b459fb7c7"
      },
      "execution_count": 8,
      "outputs": [
        {
          "output_type": "display_data",
          "data": {
            "text/plain": [
              "<Figure size 1400x600 with 2 Axes>"
            ],
            "image/png": "[encoded data removed]"
          },
          "metadata": {}
        }
      ]
    },
    {
      "cell_type": "markdown",
      "source": [
        "The charts illustrate how the availability of Online Delivery and Table Booking varies across different price ranges:\n",
        "\n",
        "**Online Delivery**: Higher price ranges seem to have fewer restaurants offering online delivery, suggesting a potential trend where lower-cost restaurants are more likely to offer this service.\n",
        "\n",
        "**Table Booking**: Higher-priced restaurants appear more likely to offer table booking, with the highest price ranges showing a greater proportion of this service."
      ],
      "metadata": {
        "id": "j2GRdtxkfBXL"
      }
    },
    {
      "cell_type": "code",
      "source": [
        "from scipy.stats import chi2_contingency\n",
        "# Use .loc to set values explicitly in the DataFrame\n",
        "df.loc[:, 'Online_delivery_binary'] = df['Has Online delivery'].map({'Yes': 1, 'No': 0})\n",
        "df.loc[:, 'Table_booking_binary'] = df['Has Table booking'].map({'Yes': 1, 'No': 0})\n",
        "\n",
        "# The rest of the code remains the same\n",
        "online_delivery_corr = df['Price range'].corr(df['Online_delivery_binary'])\n",
        "table_booking_corr = df['Price range'].corr(df['Table_booking_binary'])\n",
        "\n",
        "online_delivery_contingency = pd.crosstab(df['Price range'], df['Online_delivery_binary'])\n",
        "table_booking_contingency = pd.crosstab(df['Price range'], df['Table_booking_binary'])\n",
        "\n",
        "chi2_online_delivery, p_online_delivery, _, _ = chi2_contingency(online_delivery_contingency)\n",
        "chi2_table_booking, p_table_booking, _, _ = chi2_contingency(table_booking_contingency)\n",
        "\n",
        "{\n",
        "    'Online Delivery Correlation with Price Range': online_delivery_corr,\n",
        "    'Table Booking Correlation with Price Range': table_booking_corr,\n",
        "    'Online Delivery Chi-Square p-value': p_online_delivery,\n",
        "    'Table Booking Chi-Square p-value': p_table_booking\n",
        "}\n"
      ],
      "metadata": {
        "colab": {
          "base_uri": "https://localhost:8080/"
        },
        "id": "x1OQh3_rkyOG",
        "outputId": "feebe879-210a-46cd-83f7-24ba9a7024db"
      },
      "execution_count": 9,
      "outputs": [
        {
          "output_type": "execute_result",
          "data": {
            "text/plain": [
              "{'Online Delivery Correlation with Price Range': 0.07788653076795984,\n",
              " 'Table Booking Correlation with Price Range': 0.5021659712421341,\n",
              " 'Online Delivery Chi-Square p-value': 9.904664515234304e-156,\n",
              " 'Table Booking Chi-Square p-value': 0.0}"
            ]
          },
          "metadata": {},
          "execution_count": 9
        }
      ]
    },
    {
      "cell_type": "markdown",
      "source": [
        "**Summary**\n",
        "\n",
        "Higher-priced restaurants are indeed more likely to offer table booking, while online delivery is more common in lower to mid-price ranges. The correlations, while significant, suggest different strengths in the relationship between price range and each service.\n",
        "\n",
        "**Here are the results of analysis:**\n",
        "\n",
        "Correlation with Price Range:\n",
        "\n",
        "Online Delivery: There is a weak positive correlation (0.08), suggesting that price range has a minimal effect on whether a restaurant offers online delivery.\n",
        "Table Booking: A moderate positive correlation (0.50) exists, indicating that higher-priced restaurants are more likely to offer table booking.\n",
        "Statistical Significance (Chi-Square Tests):\n",
        "\n",
        "Online Delivery: The p-value is extremely low (\n",
        "<\n",
        "0.0001), indicating a statistically significant relationship between price range and online delivery.\n",
        "Table Booking: The p-value is effectively 0, confirming a significant association between price range and table booking availability."
      ],
      "metadata": {
        "id": "_FXHih2ZjSJo"
      }
    }
  ]
}