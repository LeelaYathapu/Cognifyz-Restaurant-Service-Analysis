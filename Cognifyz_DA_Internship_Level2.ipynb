{
  "nbformat": 4,
  "nbformat_minor": 0,
  "metadata": {
    "colab": {
      "provenance": []
    },
    "kernelspec": {
      "name": "python3",
      "display_name": "Python 3"
    },
    "language_info": {
      "name": "python"
    }
  },
  "cells": [
    {
      "cell_type": "code",
      "execution_count": null,
      "metadata": {
        "id": "1VOs9e3ma3iV"
      },
      "outputs": [],
      "source": []
    },
    {
      "cell_type": "markdown",
      "source": [
        "# **Crafting Strategic Insights In Restaurant Ratings - Level 2**"
      ],
      "metadata": {
        "id": "CVZeIDpbbmje"
      }
    },
    {
      "cell_type": "markdown",
      "source": [
        "## **Importing Necessary Libraries and importing dataset**"
      ],
      "metadata": {
        "id": "LhYOEaljkK2o"
      }
    },
    {
      "cell_type": "code",
      "source": [
        "# Install pandasql\n",
        "!pip install pandasql\n",
        "import pandasql as psql\n",
        "\n",
        "# Import Libraries\n",
        "import pandas as pd\n",
        "import numpy as np\n",
        "import seaborn as sns\n",
        "import matplotlib.pyplot as plt\n",
        "from sklearn.preprocessing import StandardScaler\n",
        "from sklearn.cluster import KMeans\n"
      ],
      "metadata": {
        "colab": {
          "base_uri": "https://localhost:8080/"
        },
        "id": "jKYUDdpEks9K",
        "outputId": "37508b40-316f-4c47-b66c-d54845db2e7a"
      },
      "execution_count": 2,
      "outputs": [
        {
          "output_type": "stream",
          "name": "stdout",
          "text": [
            "Collecting pandasql\n",
            "  Downloading pandasql-0.7.3.tar.gz (26 kB)\n",
            "  Preparing metadata (setup.py) ... \u001b[?25l\u001b[?25hdone\n",
            "Requirement already satisfied: numpy in /usr/local/lib/python3.10/dist-packages (from pandasql) (1.26.4)\n",
            "Requirement already satisfied: pandas in /usr/local/lib/python3.10/dist-packages (from pandasql) (2.2.2)\n",
            "Requirement already satisfied: sqlalchemy in /usr/local/lib/python3.10/dist-packages (from pandasql) (2.0.36)\n",
            "Requirement already satisfied: python-dateutil>=2.8.2 in /usr/local/lib/python3.10/dist-packages (from pandas->pandasql) (2.8.2)\n",
            "Requirement already satisfied: pytz>=2020.1 in /usr/local/lib/python3.10/dist-packages (from pandas->pandasql) (2024.2)\n",
            "Requirement already satisfied: tzdata>=2022.7 in /usr/local/lib/python3.10/dist-packages (from pandas->pandasql) (2024.2)\n",
            "Requirement already satisfied: typing-extensions>=4.6.0 in /usr/local/lib/python3.10/dist-packages (from sqlalchemy->pandasql) (4.12.2)\n",
            "Requirement already satisfied: greenlet!=0.4.17 in /usr/local/lib/python3.10/dist-packages (from sqlalchemy->pandasql) (3.1.1)\n",
            "Requirement already satisfied: six>=1.5 in /usr/local/lib/python3.10/dist-packages (from python-dateutil>=2.8.2->pandas->pandasql) (1.16.0)\n",
            "Building wheels for collected packages: pandasql\n",
            "  Building wheel for pandasql (setup.py) ... \u001b[?25l\u001b[?25hdone\n",
            "  Created wheel for pandasql: filename=pandasql-0.7.3-py3-none-any.whl size=26772 sha256=e38e8dfd4be9c1a95a4e369614c627850da07851e158555ec62bb8c0fa1ac3ee\n",
            "  Stored in directory: /root/.cache/pip/wheels/e9/bc/3a/8434bdcccf5779e72894a9b24fecbdcaf97940607eaf4bcdf9\n",
            "Successfully built pandasql\n",
            "Installing collected packages: pandasql\n",
            "Successfully installed pandasql-0.7.3\n"
          ]
        }
      ]
    },
    {
      "cell_type": "markdown",
      "source": [
        "## Read the CSV file"
      ],
      "metadata": {
        "id": "ip9OJsrNlRK-"
      }
    },
    {
      "cell_type": "code",
      "source": [
        "# Upload the CSV file manually in Colab first\n",
        "# Then read the CSV file into a pandas DataFrame\n",
        "url= \"https://raw.githubusercontent.com/LeelaYathapu/Cognifyz-Restaurant-Service-Analysis/refs/heads/main/Cleaned_Dataset.csv\"\n",
        "df = pd.read_csv(url)\n",
        "\n",
        "# Display the first few rows of the DataFrame\n",
        "df.head()"
      ],
      "metadata": {
        "colab": {
          "base_uri": "https://localhost:8080/",
          "height": 811
        },
        "id": "IimDVdfelQVb",
        "outputId": "a69fdeec-632d-46b9-be62-148f6dc18d1f"
      },
      "execution_count": 3,
      "outputs": [
        {
          "output_type": "execute_result",
          "data": {
            "text/plain": [
              "   Restaurant ID         Restaurant Name  Country Code              City  \\\n",
              "0        6317637        Le Petit Souffle           162       Makati City   \n",
              "1        6304287        Izakaya Kikufuji           162       Makati City   \n",
              "2        6300002  Heat - Edsa Shangri-La           162  Mandaluyong City   \n",
              "3        6318506                    Ooma           162  Mandaluyong City   \n",
              "4        6314302             Sambo Kojin           162  Mandaluyong City   \n",
              "\n",
              "                                             Address  \\\n",
              "0  Third Floor, Century City Mall, Kalayaan Avenu...   \n",
              "1  Little Tokyo, 2277 Chino Roces Avenue, Legaspi...   \n",
              "2  Edsa Shangri-La, 1 Garden Way, Ortigas, Mandal...   \n",
              "3  Third Floor, Mega Fashion Hall, SM Megamall, O...   \n",
              "4  Third Floor, Mega Atrium, SM Megamall, Ortigas...   \n",
              "\n",
              "                                     Locality  \\\n",
              "0   Century City Mall, Poblacion, Makati City   \n",
              "1  Little Tokyo, Legaspi Village, Makati City   \n",
              "2  Edsa Shangri-La, Ortigas, Mandaluyong City   \n",
              "3      SM Megamall, Ortigas, Mandaluyong City   \n",
              "4      SM Megamall, Ortigas, Mandaluyong City   \n",
              "\n",
              "                                    Locality Verbose   Longitude   Latitude  \\\n",
              "0  Century City Mall, Poblacion, Makati City, Mak...  121.027535  14.565443   \n",
              "1  Little Tokyo, Legaspi Village, Makati City, Ma...  121.014101  14.553708   \n",
              "2  Edsa Shangri-La, Ortigas, Mandaluyong City, Ma...  121.056831  14.581404   \n",
              "3  SM Megamall, Ortigas, Mandaluyong City, Mandal...  121.056475  14.585318   \n",
              "4  SM Megamall, Ortigas, Mandaluyong City, Mandal...  121.057508  14.584450   \n",
              "\n",
              "                           Cuisines  ...          Currency Has Table booking  \\\n",
              "0        French, Japanese, Desserts  ...  Botswana Pula(P)               Yes   \n",
              "1                          Japanese  ...  Botswana Pula(P)               Yes   \n",
              "2  Seafood, Asian, Filipino, Indian  ...  Botswana Pula(P)               Yes   \n",
              "3                   Japanese, Sushi  ...  Botswana Pula(P)                No   \n",
              "4                  Japanese, Korean  ...  Botswana Pula(P)               Yes   \n",
              "\n",
              "  Has Online delivery Is delivering now Switch to order menu Price range  \\\n",
              "0                  No                No                   No           3   \n",
              "1                  No                No                   No           3   \n",
              "2                  No                No                   No           4   \n",
              "3                  No                No                   No           4   \n",
              "4                  No                No                   No           4   \n",
              "\n",
              "   Aggregate rating  Rating color Rating text Votes  \n",
              "0               4.8    Dark Green   Excellent   314  \n",
              "1               4.5    Dark Green   Excellent   591  \n",
              "2               4.4         Green   Very Good   270  \n",
              "3               4.9    Dark Green   Excellent   365  \n",
              "4               4.8    Dark Green   Excellent   229  \n",
              "\n",
              "[5 rows x 21 columns]"
            ],
            "text/html": [
              "\n",
              "  <div id=\"df-27c4b748-60d3-4652-a009-6679ac73ea1f\" class=\"colab-df-container\">\n",
              "    <div>\n",
              "<style scoped>\n",
              "    .dataframe tbody tr th:only-of-type {\n",
              "        vertical-align: middle;\n",
              "    }\n",
              "\n",
              "    .dataframe tbody tr th {\n",
              "        vertical-align: top;\n",
              "    }\n",
              "\n",
              "    .dataframe thead th {\n",
              "        text-align: right;\n",
              "    }\n",
              "</style>\n",
              "<table border=\"1\" class=\"dataframe\">\n",
              "  <thead>\n",
              "    <tr style=\"text-align: right;\">\n",
              "      <th></th>\n",
              "      <th>Restaurant ID</th>\n",
              "      <th>Restaurant Name</th>\n",
              "      <th>Country Code</th>\n",
              "      <th>City</th>\n",
              "      <th>Address</th>\n",
              "      <th>Locality</th>\n",
              "      <th>Locality Verbose</th>\n",
              "      <th>Longitude</th>\n",
              "      <th>Latitude</th>\n",
              "      <th>Cuisines</th>\n",
              "      <th>...</th>\n",
              "      <th>Currency</th>\n",
              "      <th>Has Table booking</th>\n",
              "      <th>Has Online delivery</th>\n",
              "      <th>Is delivering now</th>\n",
              "      <th>Switch to order menu</th>\n",
              "      <th>Price range</th>\n",
              "      <th>Aggregate rating</th>\n",
              "      <th>Rating color</th>\n",
              "      <th>Rating text</th>\n",
              "      <th>Votes</th>\n",
              "    </tr>\n",
              "  </thead>\n",
              "  <tbody>\n",
              "    <tr>\n",
              "      <th>0</th>\n",
              "      <td>6317637</td>\n",
              "      <td>Le Petit Souffle</td>\n",
              "      <td>162</td>\n",
              "      <td>Makati City</td>\n",
              "      <td>Third Floor, Century City Mall, Kalayaan Avenu...</td>\n",
              "      <td>Century City Mall, Poblacion, Makati City</td>\n",
              "      <td>Century City Mall, Poblacion, Makati City, Mak...</td>\n",
              "      <td>121.027535</td>\n",
              "      <td>14.565443</td>\n",
              "      <td>French, Japanese, Desserts</td>\n",
              "      <td>...</td>\n",
              "      <td>Botswana Pula(P)</td>\n",
              "      <td>Yes</td>\n",
              "      <td>No</td>\n",
              "      <td>No</td>\n",
              "      <td>No</td>\n",
              "      <td>3</td>\n",
              "      <td>4.8</td>\n",
              "      <td>Dark Green</td>\n",
              "      <td>Excellent</td>\n",
              "      <td>314</td>\n",
              "    </tr>\n",
              "    <tr>\n",
              "      <th>1</th>\n",
              "      <td>6304287</td>\n",
              "      <td>Izakaya Kikufuji</td>\n",
              "      <td>162</td>\n",
              "      <td>Makati City</td>\n",
              "      <td>Little Tokyo, 2277 Chino Roces Avenue, Legaspi...</td>\n",
              "      <td>Little Tokyo, Legaspi Village, Makati City</td>\n",
              "      <td>Little Tokyo, Legaspi Village, Makati City, Ma...</td>\n",
              "      <td>121.014101</td>\n",
              "      <td>14.553708</td>\n",
              "      <td>Japanese</td>\n",
              "      <td>...</td>\n",
              "      <td>Botswana Pula(P)</td>\n",
              "      <td>Yes</td>\n",
              "      <td>No</td>\n",
              "      <td>No</td>\n",
              "      <td>No</td>\n",
              "      <td>3</td>\n",
              "      <td>4.5</td>\n",
              "      <td>Dark Green</td>\n",
              "      <td>Excellent</td>\n",
              "      <td>591</td>\n",
              "    </tr>\n",
              "    <tr>\n",
              "      <th>2</th>\n",
              "      <td>6300002</td>\n",
              "      <td>Heat - Edsa Shangri-La</td>\n",
              "      <td>162</td>\n",
              "      <td>Mandaluyong City</td>\n",
              "      <td>Edsa Shangri-La, 1 Garden Way, Ortigas, Mandal...</td>\n",
              "      <td>Edsa Shangri-La, Ortigas, Mandaluyong City</td>\n",
              "      <td>Edsa Shangri-La, Ortigas, Mandaluyong City, Ma...</td>\n",
              "      <td>121.056831</td>\n",
              "      <td>14.581404</td>\n",
              "      <td>Seafood, Asian, Filipino, Indian</td>\n",
              "      <td>...</td>\n",
              "      <td>Botswana Pula(P)</td>\n",
              "      <td>Yes</td>\n",
              "      <td>No</td>\n",
              "      <td>No</td>\n",
              "      <td>No</td>\n",
              "      <td>4</td>\n",
              "      <td>4.4</td>\n",
              "      <td>Green</td>\n",
              "      <td>Very Good</td>\n",
              "      <td>270</td>\n",
              "    </tr>\n",
              "    <tr>\n",
              "      <th>3</th>\n",
              "      <td>6318506</td>\n",
              "      <td>Ooma</td>\n",
              "      <td>162</td>\n",
              "      <td>Mandaluyong City</td>\n",
              "      <td>Third Floor, Mega Fashion Hall, SM Megamall, O...</td>\n",
              "      <td>SM Megamall, Ortigas, Mandaluyong City</td>\n",
              "      <td>SM Megamall, Ortigas, Mandaluyong City, Mandal...</td>\n",
              "      <td>121.056475</td>\n",
              "      <td>14.585318</td>\n",
              "      <td>Japanese, Sushi</td>\n",
              "      <td>...</td>\n",
              "      <td>Botswana Pula(P)</td>\n",
              "      <td>No</td>\n",
              "      <td>No</td>\n",
              "      <td>No</td>\n",
              "      <td>No</td>\n",
              "      <td>4</td>\n",
              "      <td>4.9</td>\n",
              "      <td>Dark Green</td>\n",
              "      <td>Excellent</td>\n",
              "      <td>365</td>\n",
              "    </tr>\n",
              "    <tr>\n",
              "      <th>4</th>\n",
              "      <td>6314302</td>\n",
              "      <td>Sambo Kojin</td>\n",
              "      <td>162</td>\n",
              "      <td>Mandaluyong City</td>\n",
              "      <td>Third Floor, Mega Atrium, SM Megamall, Ortigas...</td>\n",
              "      <td>SM Megamall, Ortigas, Mandaluyong City</td>\n",
              "      <td>SM Megamall, Ortigas, Mandaluyong City, Mandal...</td>\n",
              "      <td>121.057508</td>\n",
              "      <td>14.584450</td>\n",
              "      <td>Japanese, Korean</td>\n",
              "      <td>...</td>\n",
              "      <td>Botswana Pula(P)</td>\n",
              "      <td>Yes</td>\n",
              "      <td>No</td>\n",
              "      <td>No</td>\n",
              "      <td>No</td>\n",
              "      <td>4</td>\n",
              "      <td>4.8</td>\n",
              "      <td>Dark Green</td>\n",
              "      <td>Excellent</td>\n",
              "      <td>229</td>\n",
              "    </tr>\n",
              "  </tbody>\n",
              "</table>\n",
              "<p>5 rows × 21 columns</p>\n",
              "</div>\n",
              "    <div class=\"colab-df-buttons\">\n",
              "\n",
              "  <div class=\"colab-df-container\">\n",
              "    <button class=\"colab-df-convert\" onclick=\"convertToInteractive('df-27c4b748-60d3-4652-a009-6679ac73ea1f')\"\n",
              "            title=\"Convert this dataframe to an interactive table.\"\n",
              "            style=\"display:none;\">\n",
              "\n",
              "  <svg xmlns=\"http://www.w3.org/2000/svg\" height=\"24px\" viewBox=\"0 -960 960 960\">\n",
              "    <path d=\"M120-120v-720h720v720H120Zm60-500h600v-160H180v160Zm220 220h160v-160H400v160Zm0 220h160v-160H400v160ZM180-400h160v-160H180v160Zm440 0h160v-160H620v160ZM180-180h160v-160H180v160Zm440 0h160v-160H620v160Z\"/>\n",
              "  </svg>\n",
              "    </button>\n",
              "\n",
              "  <style>\n",
              "    .colab-df-container {\n",
              "      display:flex;\n",
              "      gap: 12px;\n",
              "    }\n",
              "\n",
              "    .colab-df-convert {\n",
              "      background-color: #E8F0FE;\n",
              "      border: none;\n",
              "      border-radius: 50%;\n",
              "      cursor: pointer;\n",
              "      display: none;\n",
              "      fill: #1967D2;\n",
              "      height: 32px;\n",
              "      padding: 0 0 0 0;\n",
              "      width: 32px;\n",
              "    }\n",
              "\n",
              "    .colab-df-convert:hover {\n",
              "      background-color: #E2EBFA;\n",
              "      box-shadow: 0px 1px 2px rgba(60, 64, 67, 0.3), 0px 1px 3px 1px rgba(60, 64, 67, 0.15);\n",
              "      fill: #174EA6;\n",
              "    }\n",
              "\n",
              "    .colab-df-buttons div {\n",
              "      margin-bottom: 4px;\n",
              "    }\n",
              "\n",
              "    [theme=dark] .colab-df-convert {\n",
              "      background-color: #3B4455;\n",
              "      fill: #D2E3FC;\n",
              "    }\n",
              "\n",
              "    [theme=dark] .colab-df-convert:hover {\n",
              "      background-color: #434B5C;\n",
              "      box-shadow: 0px 1px 3px 1px rgba(0, 0, 0, 0.15);\n",
              "      filter: drop-shadow(0px 1px 2px rgba(0, 0, 0, 0.3));\n",
              "      fill: #FFFFFF;\n",
              "    }\n",
              "  </style>\n",
              "\n",
              "    <script>\n",
              "      const buttonEl =\n",
              "        document.querySelector('#df-27c4b748-60d3-4652-a009-6679ac73ea1f button.colab-df-convert');\n",
              "      buttonEl.style.display =\n",
              "        google.colab.kernel.accessAllowed ? 'block' : 'none';\n",
              "\n",
              "      async function convertToInteractive(key) {\n",
              "        const element = document.querySelector('#df-27c4b748-60d3-4652-a009-6679ac73ea1f');\n",
              "        const dataTable =\n",
              "          await google.colab.kernel.invokeFunction('convertToInteractive',\n",
              "                                                    [key], {});\n",
              "        if (!dataTable) return;\n",
              "\n",
              "        const docLinkHtml = 'Like what you see? Visit the ' +\n",
              "          '<a target=\"_blank\" href=https://colab.research.google.com/notebooks/data_table.ipynb>data table notebook</a>'\n",
              "          + ' to learn more about interactive tables.';\n",
              "        element.innerHTML = '';\n",
              "        dataTable['output_type'] = 'display_data';\n",
              "        await google.colab.output.renderOutput(dataTable, element);\n",
              "        const docLink = document.createElement('div');\n",
              "        docLink.innerHTML = docLinkHtml;\n",
              "        element.appendChild(docLink);\n",
              "      }\n",
              "    </script>\n",
              "  </div>\n",
              "\n",
              "\n",
              "<div id=\"df-baf4aaa8-3fcd-4409-83b8-b0ce1415daff\">\n",
              "  <button class=\"colab-df-quickchart\" onclick=\"quickchart('df-baf4aaa8-3fcd-4409-83b8-b0ce1415daff')\"\n",
              "            title=\"Suggest charts\"\n",
              "            style=\"display:none;\">\n",
              "\n",
              "<svg xmlns=\"http://www.w3.org/2000/svg\" height=\"24px\"viewBox=\"0 0 24 24\"\n",
              "     width=\"24px\">\n",
              "    <g>\n",
              "        <path d=\"M19 3H5c-1.1 0-2 .9-2 2v14c0 1.1.9 2 2 2h14c1.1 0 2-.9 2-2V5c0-1.1-.9-2-2-2zM9 17H7v-7h2v7zm4 0h-2V7h2v10zm4 0h-2v-4h2v4z\"/>\n",
              "    </g>\n",
              "</svg>\n",
              "  </button>\n",
              "\n",
              "<style>\n",
              "  .colab-df-quickchart {\n",
              "      --bg-color: #E8F0FE;\n",
              "      --fill-color: #1967D2;\n",
              "      --hover-bg-color: #E2EBFA;\n",
              "      --hover-fill-color: #174EA6;\n",
              "      --disabled-fill-color: #AAA;\n",
              "      --disabled-bg-color: #DDD;\n",
              "  }\n",
              "\n",
              "  [theme=dark] .colab-df-quickchart {\n",
              "      --bg-color: #3B4455;\n",
              "      --fill-color: #D2E3FC;\n",
              "      --hover-bg-color: #434B5C;\n",
              "      --hover-fill-color: #FFFFFF;\n",
              "      --disabled-bg-color: #3B4455;\n",
              "      --disabled-fill-color: #666;\n",
              "  }\n",
              "\n",
              "  .colab-df-quickchart {\n",
              "    background-color: var(--bg-color);\n",
              "    border: none;\n",
              "    border-radius: 50%;\n",
              "    cursor: pointer;\n",
              "    display: none;\n",
              "    fill: var(--fill-color);\n",
              "    height: 32px;\n",
              "    padding: 0;\n",
              "    width: 32px;\n",
              "  }\n",
              "\n",
              "  .colab-df-quickchart:hover {\n",
              "    background-color: var(--hover-bg-color);\n",
              "    box-shadow: 0 1px 2px rgba(60, 64, 67, 0.3), 0 1px 3px 1px rgba(60, 64, 67, 0.15);\n",
              "    fill: var(--button-hover-fill-color);\n",
              "  }\n",
              "\n",
              "  .colab-df-quickchart-complete:disabled,\n",
              "  .colab-df-quickchart-complete:disabled:hover {\n",
              "    background-color: var(--disabled-bg-color);\n",
              "    fill: var(--disabled-fill-color);\n",
              "    box-shadow: none;\n",
              "  }\n",
              "\n",
              "  .colab-df-spinner {\n",
              "    border: 2px solid var(--fill-color);\n",
              "    border-color: transparent;\n",
              "    border-bottom-color: var(--fill-color);\n",
              "    animation:\n",
              "      spin 1s steps(1) infinite;\n",
              "  }\n",
              "\n",
              "  @keyframes spin {\n",
              "    0% {\n",
              "      border-color: transparent;\n",
              "      border-bottom-color: var(--fill-color);\n",
              "      border-left-color: var(--fill-color);\n",
              "    }\n",
              "    20% {\n",
              "      border-color: transparent;\n",
              "      border-left-color: var(--fill-color);\n",
              "      border-top-color: var(--fill-color);\n",
              "    }\n",
              "    30% {\n",
              "      border-color: transparent;\n",
              "      border-left-color: var(--fill-color);\n",
              "      border-top-color: var(--fill-color);\n",
              "      border-right-color: var(--fill-color);\n",
              "    }\n",
              "    40% {\n",
              "      border-color: transparent;\n",
              "      border-right-color: var(--fill-color);\n",
              "      border-top-color: var(--fill-color);\n",
              "    }\n",
              "    60% {\n",
              "      border-color: transparent;\n",
              "      border-right-color: var(--fill-color);\n",
              "    }\n",
              "    80% {\n",
              "      border-color: transparent;\n",
              "      border-right-color: var(--fill-color);\n",
              "      border-bottom-color: var(--fill-color);\n",
              "    }\n",
              "    90% {\n",
              "      border-color: transparent;\n",
              "      border-bottom-color: var(--fill-color);\n",
              "    }\n",
              "  }\n",
              "</style>\n",
              "\n",
              "  <script>\n",
              "    async function quickchart(key) {\n",
              "      const quickchartButtonEl =\n",
              "        document.querySelector('#' + key + ' button');\n",
              "      quickchartButtonEl.disabled = true;  // To prevent multiple clicks.\n",
              "      quickchartButtonEl.classList.add('colab-df-spinner');\n",
              "      try {\n",
              "        const charts = await google.colab.kernel.invokeFunction(\n",
              "            'suggestCharts', [key], {});\n",
              "      } catch (error) {\n",
              "        console.error('Error during call to suggestCharts:', error);\n",
              "      }\n",
              "      quickchartButtonEl.classList.remove('colab-df-spinner');\n",
              "      quickchartButtonEl.classList.add('colab-df-quickchart-complete');\n",
              "    }\n",
              "    (() => {\n",
              "      let quickchartButtonEl =\n",
              "        document.querySelector('#df-baf4aaa8-3fcd-4409-83b8-b0ce1415daff button');\n",
              "      quickchartButtonEl.style.display =\n",
              "        google.colab.kernel.accessAllowed ? 'block' : 'none';\n",
              "    })();\n",
              "  </script>\n",
              "</div>\n",
              "\n",
              "    </div>\n",
              "  </div>\n"
            ],
            "application/vnd.google.colaboratory.intrinsic+json": {
              "type": "dataframe",
              "variable_name": "df"
            }
          },
          "metadata": {},
          "execution_count": 3
        }
      ]
    },
    {
      "cell_type": "markdown",
      "source": [
        "# Task 1: Restaurant Ratings\n",
        "1. Analyze the distribution of aggregate\n",
        "ratings and determine the most common\n",
        "rating range.\n",
        "\n",
        "2. Calculate the average number of votes\n",
        "received by restaurants."
      ],
      "metadata": {
        "id": "fu3HRsfzgD2F"
      }
    },
    {
      "cell_type": "code",
      "source": [
        "# Write SQL query and run it in DataFrame\n",
        "\n",
        "# SQL query to Analyze the distribution of aggregate ratings and determine the most common rating range.\n",
        "query1 = \"\"\"\n",
        "SELECT\n",
        "    CASE\n",
        "        WHEN \"Aggregate rating\" BETWEEN 0 AND 1 THEN '0-1'\n",
        "        WHEN \"Aggregate rating\" BETWEEN 1 AND 2 THEN '1-2'\n",
        "        WHEN \"Aggregate rating\" BETWEEN 2 AND 3 THEN '2-3'\n",
        "        WHEN \"Aggregate rating\" BETWEEN 3 AND 4 THEN '3-4'\n",
        "        WHEN \"Aggregate rating\" BETWEEN 4 AND 5 THEN '4-5'\n",
        "        ELSE 'No rating'\n",
        "    END AS rating_range,\n",
        "    COUNT(*) AS rating_count\n",
        "FROM\n",
        "    df\n",
        "GROUP BY\n",
        "    rating_range\n",
        "ORDER BY\n",
        "    rating_count DESC\n",
        "    LIMIT 1;\n",
        "\"\"\"\n",
        "\n",
        "# Execute the SQL query\n",
        "common_rating_range = psql.sqldf(query1, locals())\n",
        "\n",
        "# Show the result\n",
        "print(common_rating_range)"
      ],
      "metadata": {
        "colab": {
          "base_uri": "https://localhost:8080/"
        },
        "id": "Q11u7jPQjlrs",
        "outputId": "9d235eea-9393-4b52-d465-64e1813951e1"
      },
      "execution_count": 4,
      "outputs": [
        {
          "output_type": "stream",
          "name": "stdout",
          "text": [
            "  rating_range  rating_count\n",
            "0          3-4          4381\n"
          ]
        }
      ]
    },
    {
      "cell_type": "markdown",
      "source": [
        "**Observation**\n",
        "\n",
        "The distribution of Aggregate rating lies in the range from 2 - 5.\n",
        "\n",
        "The most common rating range is 3-4, rating count 4381."
      ],
      "metadata": {
        "id": "wvPWVKEC2gFM"
      }
    },
    {
      "cell_type": "code",
      "source": [
        "# SQL query to Calculate the average number of votes received by restaurants.\n",
        "query1 = \"\"\"\n",
        "SELECT\n",
        "    \"Restaurant ID\",\n",
        "    AVG(\"Votes\") AS avg_votes\n",
        "\n",
        "FROM\n",
        "    df\n",
        "    GROUP BY \"Restaurant ID\"\n",
        "    order by avg_votes desc\n",
        "    ;\n",
        "\"\"\"\n",
        "# Execute the SQL query\n",
        "avg_votes = psql.sqldf(query1, locals())\n",
        "\n",
        "# Show the result\n",
        "print(avg_votes)\n"
      ],
      "metadata": {
        "colab": {
          "base_uri": "https://localhost:8080/"
        },
        "id": "Etnzm4wguFkE",
        "outputId": "786e4e8f-727e-4486-a720-084162df591f"
      },
      "execution_count": 5,
      "outputs": [
        {
          "output_type": "stream",
          "name": "stdout",
          "text": [
            "      Restaurant ID  avg_votes\n",
            "0             51705    10934.0\n",
            "1             51040     9667.0\n",
            "2            308322     7931.0\n",
            "3             20404     7574.0\n",
            "4             56618     6907.0\n",
            "...             ...        ...\n",
            "9537           7362        0.0\n",
            "9538           6678        0.0\n",
            "9539           6249        0.0\n",
            "9540           5927        0.0\n",
            "9541           5463        0.0\n",
            "\n",
            "[9542 rows x 2 columns]\n"
          ]
        }
      ]
    },
    {
      "cell_type": "markdown",
      "source": [
        "**Observation**\n",
        "\n",
        "The average number of votes received by restaurants : 156.77.\n",
        "\n",
        "The average number of highest votes received by the restaurants is Toit having approx 10934 Votes.\n",
        "\n",
        "Few restaurants have No rating, like Arunachal Bhawan, Front Food Corner, Alam Biryani, Right for Night, Food Hut."
      ],
      "metadata": {
        "id": "vfKUdlcA2zEa"
      }
    },
    {
      "cell_type": "markdown",
      "source": [
        "# Task 2: Cuisine Combination\n",
        "\n",
        "1. Identify the most common combinations of\n",
        "cuisines in the dataset.\n",
        "\n",
        "2. Determine if certain cuisine combinations\n",
        "tend to have higher ratings."
      ],
      "metadata": {
        "id": "czE5DN7gP9T_"
      }
    },
    {
      "cell_type": "code",
      "source": [
        "# SQL query to Identify the most common combinations of cuisines in the dataset.\n",
        "query1 = \"\"\"\n",
        "SELECT Cuisines, COUNT(*) AS cuisines_count\n",
        "FROM df\n",
        "GROUP BY Cuisines\n",
        "ORDER BY cuisines_count DESC\n",
        ";\n",
        "\"\"\"\n",
        "# Execute the SQL query\n",
        "top_city = psql.sqldf(query1, locals())\n",
        "\n",
        "# Show the result\n",
        "print(top_city)"
      ],
      "metadata": {
        "colab": {
          "base_uri": "https://localhost:8080/"
        },
        "id": "0FE6c2uRQ48d",
        "outputId": "d3d97c27-f97b-4211-c92a-3e81ad593783"
      },
      "execution_count": 6,
      "outputs": [
        {
          "output_type": "stream",
          "name": "stdout",
          "text": [
            "                                       Cuisines  cuisines_count\n",
            "0                                  North Indian             936\n",
            "1                         North Indian, Chinese             511\n",
            "2                                     Fast Food             354\n",
            "3                                       Chinese             354\n",
            "4                         North Indian, Mughlai             334\n",
            "...                                         ...             ...\n",
            "1820                        African, Portuguese               1\n",
            "1821                                    African               1\n",
            "1822  Afghani, North Indian, Pakistani, Arabian               1\n",
            "1823                      Afghani, North Indian               1\n",
            "1824                  Afghani, Mughlai, Chinese               1\n",
            "\n",
            "[1825 rows x 2 columns]\n"
          ]
        }
      ]
    },
    {
      "cell_type": "markdown",
      "source": [
        "**Observation:**\n",
        "\n",
        "The most common combinations of cuisines are 'North Indian, Chinese' having 511 count according to the datasets."
      ],
      "metadata": {
        "id": "wjgNlvGb3Ot3"
      }
    },
    {
      "cell_type": "code",
      "source": [
        "# SQL query to Determine if certain cuisine combinations tend to have higher ratings.\n",
        "query1 = \"\"\"\n",
        "SELECT Cuisines, \"Aggregate rating\", COUNT(*) AS cuisines_count\n",
        "FROM df\n",
        "WHERE \"Aggregate rating\" = (SELECT MAX(\"Aggregate rating\") FROM df);\n",
        "\"\"\"\n",
        "\n",
        "# Execute the SQL query\n",
        "avg_rating = psql.sqldf(query1, locals())\n",
        "\n",
        "# Show the result\n",
        "print(avg_rating)"
      ],
      "metadata": {
        "colab": {
          "base_uri": "https://localhost:8080/"
        },
        "id": "pJAGI6TpSd_D",
        "outputId": "abfc6630-f219-45f2-bffd-2cb84abe73bf"
      },
      "execution_count": 9,
      "outputs": [
        {
          "output_type": "stream",
          "name": "stdout",
          "text": [
            "          Cuisines  Aggregate rating  cuisines_count\n",
            "0  Japanese, Sushi               4.9              61\n"
          ]
        }
      ]
    },
    {
      "cell_type": "markdown",
      "source": [
        "**Observation:**\n",
        "\n",
        "The higest rating is 4.9 .\n",
        "\n",
        "The total number of cuisines having higest rating are 61.\n",
        "\n",
        "Out of 61 , 17 restaurants are consider as a cuisines combination category."
      ],
      "metadata": {
        "id": "TyxEPiic3Ypr"
      }
    },
    {
      "cell_type": "markdown",
      "source": [
        "# Task 3: Geographic Analysis\n",
        "\n",
        "1. Plot the locations of restaurants on a\n",
        "map using longitude and latitude\n",
        "coordinates.\n",
        "\n",
        "2. Identify any patterns or clusters of\n",
        "restaurants in specific areas."
      ],
      "metadata": {
        "id": "u5zrlXyXT6t_"
      }
    },
    {
      "cell_type": "code",
      "source": [
        "!pip install folium"
      ],
      "metadata": {
        "id": "fjt7enzD1iQH"
      },
      "execution_count": null,
      "outputs": []
    },
    {
      "cell_type": "code",
      "source": [
        "#Plot the locations of restaurants on a map using longitude and latitude coordinates.\n",
        "import folium\n",
        "\n",
        "# Create a folium map centered at an arbitrary location\n",
        "map_center = [df1['Latitude'].loc[0], df1['Longitude'].iloc[0]]\n",
        "my_map = folium.Map(location=map_center, zoom_start=12)\n",
        "\n",
        "# Add markers for each restaurant\n",
        "for _, restaurant in df1.iterrows():\n",
        "    folium.Marker( location=[restaurant['Latitude'], restaurant['Longitude']],\n",
        "                  popup=restaurant['Restaurant Name'] ).add_to(my_map)\n",
        "\n",
        "# Save the map to an HTML file or display it\n",
        "my_map.save(\"restaurant_map.html\")\n",
        "# my_map.show()  # Uncomment this line to display the map in a Jupyter Notebook\n"
      ],
      "metadata": {
        "id": "NuBI9Dzaj68c"
      },
      "execution_count": null,
      "outputs": []
    },
    {
      "cell_type": "code",
      "source": [
        "#Identify any patterns or clusters of restaurants in specific areas.\n",
        "from sklearn.preprocessing import StandardScaler\n",
        "from sklearn.cluster import KMeans\n",
        "\n",
        "features = df[['Longitude','Latitude', 'Price range','Aggregate rating', 'Votes']]\n",
        "\n",
        "scaler = StandardScaler()\n",
        "features_scaled = scaler.fit_transform(features)\n",
        "\n",
        "#apply k-means Clustering\n",
        "kmeans = KMeans (n_clusters = 3, random_state = 42)\n",
        "df['Cluster']= kmeans.fit_predict(features_scaled)\n",
        "\n",
        "#Use seaborn to visualization\n",
        "sns.scatterplot(x='Longitude', y='Latitude', hue='Cluster', data=df, palette='viridis')\n",
        "plt.title('Restaurant Clusters')\n",
        "plt.show()"
      ],
      "metadata": {
        "colab": {
          "base_uri": "https://localhost:8080/",
          "height": 472
        },
        "id": "TtDowcu6dJii",
        "outputId": "e873bd51-6045-47c0-d1e7-083d8d1afa03"
      },
      "execution_count": 18,
      "outputs": [
        {
          "output_type": "display_data",
          "data": {
            "text/plain": [
              "<Figure size 640x480 with 1 Axes>"
            ],
            "image/png": "[encoded data removed]"
          },
          "metadata": {}
        }
      ]
    },
    {
      "cell_type": "markdown",
      "source": [
        "**Observation**\n",
        "\n",
        "The scatter plot with different colors represents spatial clusters of restaurants. The certain areas have a higher concentration of restaurants.\n",
        "\n",
        "It identifying that clusters with a lower density of restaurants might suggest areas where opening a new restaurant could be a strategic move."
      ],
      "metadata": {
        "id": "VDFP_Y-t1zxK"
      }
    },
    {
      "cell_type": "markdown",
      "source": [
        "# Task 4: Task: Restaurant Chains\n",
        "\n",
        "1. Identify if there are any restaurant chains\n",
        "present in the dataset.\n",
        "\n",
        "2. Analyze the ratings and popularity of\n",
        "different restaurant chains."
      ],
      "metadata": {
        "id": "xuCSIWNPcbwK"
      }
    },
    {
      "cell_type": "code",
      "source": [
        "# SQL query to identify if there are any restaurant chains present in the dataset.\n",
        "query1 = \"\"\"\n",
        "\n",
        "SELECT\n",
        "    \"Restaurant Name\",\n",
        "    COUNT(*) AS chain_count\n",
        "FROM\n",
        "    df\n",
        "GROUP BY\n",
        "    \"Restaurant Name\"\n",
        "HAVING\n",
        "    COUNT(*) > 1\n",
        "ORDER BY\n",
        "    chain_count DESC\n",
        "    ;\n",
        "\"\"\"\n",
        "\n",
        "# Execute the SQL query\n",
        "restaurant_chains = psql.sqldf(query1, locals())\n",
        "\n",
        "# Show the result\n",
        "print(restaurant_chains)"
      ],
      "metadata": {
        "colab": {
          "base_uri": "https://localhost:8080/"
        },
        "id": "riu3bC0Ic8k5",
        "outputId": "062a247f-bfb9-4320-fcd2-faaebd3c4a20"
      },
      "execution_count": 9,
      "outputs": [
        {
          "output_type": "stream",
          "name": "stdout",
          "text": [
            "        Restaurant Name  chain_count\n",
            "0       Cafe Coffee Day           83\n",
            "1        Domino's Pizza           79\n",
            "2                Subway           63\n",
            "3      Green Chick Chop           51\n",
            "4            McDonald's           48\n",
            "..                  ...          ...\n",
            "729    A Piece of Paris            2\n",
            "730        6 Pack Momos            2\n",
            "731      4700BC Popcorn            2\n",
            "732  34 Parkstreet Lane            2\n",
            "733   10 Downing Street            2\n",
            "\n",
            "[734 rows x 2 columns]\n"
          ]
        }
      ]
    },
    {
      "cell_type": "markdown",
      "source": [
        "**Observation**\n",
        "\n",
        "There are 734 restuarant chain are present."
      ],
      "metadata": {
        "id": "DRB7Lp236Pgs"
      }
    },
    {
      "cell_type": "code",
      "source": [
        "# SQL query to Analyze the ratings and popularity of different restaurant chains.\n",
        "query1 = \"\"\"\n",
        "SELECT\n",
        "    \"Restaurant Name\",\n",
        "    COUNT(*) AS chain_count,\n",
        "    AVG(\"Aggregate rating\") AS avg_rating,\n",
        "    AVG(\"Votes\") AS avg_votes\n",
        "FROM\n",
        "    df\n",
        "GROUP BY\n",
        "    \"Restaurant Name\"\n",
        "HAVING\n",
        "    COUNT(*) > 1\n",
        "ORDER BY\n",
        "    avg_rating DESC\n",
        "    ;\n",
        "\"\"\"\n",
        "\n",
        "# Execute the SQL query\n",
        "popularity = psql.sqldf(query1, locals())\n",
        "\n",
        "# Show the result\n",
        "print(popularity)"
      ],
      "metadata": {
        "colab": {
          "base_uri": "https://localhost:8080/"
        },
        "id": "Qz6QeKPneGIb",
        "outputId": "40005168-ee17-4667-c551-ff510a6e8431"
      },
      "execution_count": 15,
      "outputs": [
        {
          "output_type": "stream",
          "name": "stdout",
          "text": [
            "               Restaurant Name  chain_count  avg_rating  avg_votes\n",
            "0             Talaga Sampireun            3       4.900     1838.0\n",
            "1             Silantro Fil-Mex            2       4.850      682.0\n",
            "2      AB's Absolute Barbecues            2       4.850     1575.5\n",
            "3    AB's - Absolute Barbecues            4       4.825     3350.0\n",
            "4           Naturals Ice Cream            2       4.800     1547.0\n",
            "..                         ...          ...         ...        ...\n",
            "729                Big Biryani            2       0.000        0.5\n",
            "730               Bake Walkers            2       0.000        0.0\n",
            "731               Anand Sweets            2       0.000        1.5\n",
            "732      Aggarwal Sweet Centre            3       0.000        2.0\n",
            "733              Aap Ki Khatir            2       0.000        0.0\n",
            "\n",
            "[734 rows x 4 columns]\n"
          ]
        }
      ]
    },
    {
      "cell_type": "markdown",
      "source": [
        "**Summary**\n",
        "\n",
        "Total 734 number of restaurant chain are found.\n",
        "\n",
        "Average Rating: These chains are likely to be popular among customers and may have a reputation for providing excellent dining experiences.\n",
        "\n",
        "Popularity Based on Votes: Higher total votes suggest greater popularity and may indicate that a chain is frequently visited by customers."
      ],
      "metadata": {
        "id": "PhPyUHjT6hJF"
      }
    }
  ]
}